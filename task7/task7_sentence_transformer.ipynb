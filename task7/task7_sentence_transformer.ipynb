{
  "nbformat": 4,
  "nbformat_minor": 0,
  "metadata": {
    "colab": {
      "provenance": [],
      "gpuType": "T4"
    },
    "kernelspec": {
      "name": "python3",
      "display_name": "Python 3"
    },
    "language_info": {
      "name": "python"
    },
    "accelerator": "GPU",
    "widgets": {
      "application/vnd.jupyter.widget-state+json": {
        "23b4bae7580347c5884e7f153c3f311b": {
          "model_module": "@jupyter-widgets/controls",
          "model_name": "HBoxModel",
          "model_module_version": "1.5.0",
          "state": {
            "_dom_classes": [],
            "_model_module": "@jupyter-widgets/controls",
            "_model_module_version": "1.5.0",
            "_model_name": "HBoxModel",
            "_view_count": null,
            "_view_module": "@jupyter-widgets/controls",
            "_view_module_version": "1.5.0",
            "_view_name": "HBoxView",
            "box_style": "",
            "children": [
              "IPY_MODEL_789a511ae8164c1ca2cb80eb1785a47e",
              "IPY_MODEL_e2838a41430b49beb33a2da907c3060b",
              "IPY_MODEL_4525833aa4424667b480f3451549c1cc"
            ],
            "layout": "IPY_MODEL_4d8fba1665c84306b1228f89d9fa9caf"
          }
        },
        "789a511ae8164c1ca2cb80eb1785a47e": {
          "model_module": "@jupyter-widgets/controls",
          "model_name": "HTMLModel",
          "model_module_version": "1.5.0",
          "state": {
            "_dom_classes": [],
            "_model_module": "@jupyter-widgets/controls",
            "_model_module_version": "1.5.0",
            "_model_name": "HTMLModel",
            "_view_count": null,
            "_view_module": "@jupyter-widgets/controls",
            "_view_module_version": "1.5.0",
            "_view_name": "HTMLView",
            "description": "",
            "description_tooltip": null,
            "layout": "IPY_MODEL_2e5cd0050c854b22a73a469995f7f36c",
            "placeholder": "​",
            "style": "IPY_MODEL_472343650ac7455fae14fabd7621e90a",
            "value": "modules.json: 100%"
          }
        },
        "e2838a41430b49beb33a2da907c3060b": {
          "model_module": "@jupyter-widgets/controls",
          "model_name": "FloatProgressModel",
          "model_module_version": "1.5.0",
          "state": {
            "_dom_classes": [],
            "_model_module": "@jupyter-widgets/controls",
            "_model_module_version": "1.5.0",
            "_model_name": "FloatProgressModel",
            "_view_count": null,
            "_view_module": "@jupyter-widgets/controls",
            "_view_module_version": "1.5.0",
            "_view_name": "ProgressView",
            "bar_style": "success",
            "description": "",
            "description_tooltip": null,
            "layout": "IPY_MODEL_f047468780b747859ab776ca9e29fab7",
            "max": 349,
            "min": 0,
            "orientation": "horizontal",
            "style": "IPY_MODEL_e7a27163c7634f418514cad688998755",
            "value": 349
          }
        },
        "4525833aa4424667b480f3451549c1cc": {
          "model_module": "@jupyter-widgets/controls",
          "model_name": "HTMLModel",
          "model_module_version": "1.5.0",
          "state": {
            "_dom_classes": [],
            "_model_module": "@jupyter-widgets/controls",
            "_model_module_version": "1.5.0",
            "_model_name": "HTMLModel",
            "_view_count": null,
            "_view_module": "@jupyter-widgets/controls",
            "_view_module_version": "1.5.0",
            "_view_name": "HTMLView",
            "description": "",
            "description_tooltip": null,
            "layout": "IPY_MODEL_aeddad8b83474f989ccc0026bfae3fa6",
            "placeholder": "​",
            "style": "IPY_MODEL_81920f0a6169475ca904329b96305027",
            "value": " 349/349 [00:00&lt;00:00, 28.8kB/s]"
          }
        },
        "4d8fba1665c84306b1228f89d9fa9caf": {
          "model_module": "@jupyter-widgets/base",
          "model_name": "LayoutModel",
          "model_module_version": "1.2.0",
          "state": {
            "_model_module": "@jupyter-widgets/base",
            "_model_module_version": "1.2.0",
            "_model_name": "LayoutModel",
            "_view_count": null,
            "_view_module": "@jupyter-widgets/base",
            "_view_module_version": "1.2.0",
            "_view_name": "LayoutView",
            "align_content": null,
            "align_items": null,
            "align_self": null,
            "border": null,
            "bottom": null,
            "display": null,
            "flex": null,
            "flex_flow": null,
            "grid_area": null,
            "grid_auto_columns": null,
            "grid_auto_flow": null,
            "grid_auto_rows": null,
            "grid_column": null,
            "grid_gap": null,
            "grid_row": null,
            "grid_template_areas": null,
            "grid_template_columns": null,
            "grid_template_rows": null,
            "height": null,
            "justify_content": null,
            "justify_items": null,
            "left": null,
            "margin": null,
            "max_height": null,
            "max_width": null,
            "min_height": null,
            "min_width": null,
            "object_fit": null,
            "object_position": null,
            "order": null,
            "overflow": null,
            "overflow_x": null,
            "overflow_y": null,
            "padding": null,
            "right": null,
            "top": null,
            "visibility": null,
            "width": null
          }
        },
        "2e5cd0050c854b22a73a469995f7f36c": {
          "model_module": "@jupyter-widgets/base",
          "model_name": "LayoutModel",
          "model_module_version": "1.2.0",
          "state": {
            "_model_module": "@jupyter-widgets/base",
            "_model_module_version": "1.2.0",
            "_model_name": "LayoutModel",
            "_view_count": null,
            "_view_module": "@jupyter-widgets/base",
            "_view_module_version": "1.2.0",
            "_view_name": "LayoutView",
            "align_content": null,
            "align_items": null,
            "align_self": null,
            "border": null,
            "bottom": null,
            "display": null,
            "flex": null,
            "flex_flow": null,
            "grid_area": null,
            "grid_auto_columns": null,
            "grid_auto_flow": null,
            "grid_auto_rows": null,
            "grid_column": null,
            "grid_gap": null,
            "grid_row": null,
            "grid_template_areas": null,
            "grid_template_columns": null,
            "grid_template_rows": null,
            "height": null,
            "justify_content": null,
            "justify_items": null,
            "left": null,
            "margin": null,
            "max_height": null,
            "max_width": null,
            "min_height": null,
            "min_width": null,
            "object_fit": null,
            "object_position": null,
            "order": null,
            "overflow": null,
            "overflow_x": null,
            "overflow_y": null,
            "padding": null,
            "right": null,
            "top": null,
            "visibility": null,
            "width": null
          }
        },
        "472343650ac7455fae14fabd7621e90a": {
          "model_module": "@jupyter-widgets/controls",
          "model_name": "DescriptionStyleModel",
          "model_module_version": "1.5.0",
          "state": {
            "_model_module": "@jupyter-widgets/controls",
            "_model_module_version": "1.5.0",
            "_model_name": "DescriptionStyleModel",
            "_view_count": null,
            "_view_module": "@jupyter-widgets/base",
            "_view_module_version": "1.2.0",
            "_view_name": "StyleView",
            "description_width": ""
          }
        },
        "f047468780b747859ab776ca9e29fab7": {
          "model_module": "@jupyter-widgets/base",
          "model_name": "LayoutModel",
          "model_module_version": "1.2.0",
          "state": {
            "_model_module": "@jupyter-widgets/base",
            "_model_module_version": "1.2.0",
            "_model_name": "LayoutModel",
            "_view_count": null,
            "_view_module": "@jupyter-widgets/base",
            "_view_module_version": "1.2.0",
            "_view_name": "LayoutView",
            "align_content": null,
            "align_items": null,
            "align_self": null,
            "border": null,
            "bottom": null,
            "display": null,
            "flex": null,
            "flex_flow": null,
            "grid_area": null,
            "grid_auto_columns": null,
            "grid_auto_flow": null,
            "grid_auto_rows": null,
            "grid_column": null,
            "grid_gap": null,
            "grid_row": null,
            "grid_template_areas": null,
            "grid_template_columns": null,
            "grid_template_rows": null,
            "height": null,
            "justify_content": null,
            "justify_items": null,
            "left": null,
            "margin": null,
            "max_height": null,
            "max_width": null,
            "min_height": null,
            "min_width": null,
            "object_fit": null,
            "object_position": null,
            "order": null,
            "overflow": null,
            "overflow_x": null,
            "overflow_y": null,
            "padding": null,
            "right": null,
            "top": null,
            "visibility": null,
            "width": null
          }
        },
        "e7a27163c7634f418514cad688998755": {
          "model_module": "@jupyter-widgets/controls",
          "model_name": "ProgressStyleModel",
          "model_module_version": "1.5.0",
          "state": {
            "_model_module": "@jupyter-widgets/controls",
            "_model_module_version": "1.5.0",
            "_model_name": "ProgressStyleModel",
            "_view_count": null,
            "_view_module": "@jupyter-widgets/base",
            "_view_module_version": "1.2.0",
            "_view_name": "StyleView",
            "bar_color": null,
            "description_width": ""
          }
        },
        "aeddad8b83474f989ccc0026bfae3fa6": {
          "model_module": "@jupyter-widgets/base",
          "model_name": "LayoutModel",
          "model_module_version": "1.2.0",
          "state": {
            "_model_module": "@jupyter-widgets/base",
            "_model_module_version": "1.2.0",
            "_model_name": "LayoutModel",
            "_view_count": null,
            "_view_module": "@jupyter-widgets/base",
            "_view_module_version": "1.2.0",
            "_view_name": "LayoutView",
            "align_content": null,
            "align_items": null,
            "align_self": null,
            "border": null,
            "bottom": null,
            "display": null,
            "flex": null,
            "flex_flow": null,
            "grid_area": null,
            "grid_auto_columns": null,
            "grid_auto_flow": null,
            "grid_auto_rows": null,
            "grid_column": null,
            "grid_gap": null,
            "grid_row": null,
            "grid_template_areas": null,
            "grid_template_columns": null,
            "grid_template_rows": null,
            "height": null,
            "justify_content": null,
            "justify_items": null,
            "left": null,
            "margin": null,
            "max_height": null,
            "max_width": null,
            "min_height": null,
            "min_width": null,
            "object_fit": null,
            "object_position": null,
            "order": null,
            "overflow": null,
            "overflow_x": null,
            "overflow_y": null,
            "padding": null,
            "right": null,
            "top": null,
            "visibility": null,
            "width": null
          }
        },
        "81920f0a6169475ca904329b96305027": {
          "model_module": "@jupyter-widgets/controls",
          "model_name": "DescriptionStyleModel",
          "model_module_version": "1.5.0",
          "state": {
            "_model_module": "@jupyter-widgets/controls",
            "_model_module_version": "1.5.0",
            "_model_name": "DescriptionStyleModel",
            "_view_count": null,
            "_view_module": "@jupyter-widgets/base",
            "_view_module_version": "1.2.0",
            "_view_name": "StyleView",
            "description_width": ""
          }
        },
        "078d9bec63794cb0879c71fd4eb112b7": {
          "model_module": "@jupyter-widgets/controls",
          "model_name": "HBoxModel",
          "model_module_version": "1.5.0",
          "state": {
            "_dom_classes": [],
            "_model_module": "@jupyter-widgets/controls",
            "_model_module_version": "1.5.0",
            "_model_name": "HBoxModel",
            "_view_count": null,
            "_view_module": "@jupyter-widgets/controls",
            "_view_module_version": "1.5.0",
            "_view_name": "HBoxView",
            "box_style": "",
            "children": [
              "IPY_MODEL_f68fac3bdad042efa4499a40f8dd6be8",
              "IPY_MODEL_e01cc5cc4e984108af22021fc8a1f2b9",
              "IPY_MODEL_1ea3baeb3de3485f8ca3110f5c92a166"
            ],
            "layout": "IPY_MODEL_c3cbe10f373f47ffacfcbb81e86e0c61"
          }
        },
        "f68fac3bdad042efa4499a40f8dd6be8": {
          "model_module": "@jupyter-widgets/controls",
          "model_name": "HTMLModel",
          "model_module_version": "1.5.0",
          "state": {
            "_dom_classes": [],
            "_model_module": "@jupyter-widgets/controls",
            "_model_module_version": "1.5.0",
            "_model_name": "HTMLModel",
            "_view_count": null,
            "_view_module": "@jupyter-widgets/controls",
            "_view_module_version": "1.5.0",
            "_view_name": "HTMLView",
            "description": "",
            "description_tooltip": null,
            "layout": "IPY_MODEL_4d942dc49e394090b6597a554c609fe4",
            "placeholder": "​",
            "style": "IPY_MODEL_746f5fe2543044f29295cd5dff240657",
            "value": "config_sentence_transformers.json: 100%"
          }
        },
        "e01cc5cc4e984108af22021fc8a1f2b9": {
          "model_module": "@jupyter-widgets/controls",
          "model_name": "FloatProgressModel",
          "model_module_version": "1.5.0",
          "state": {
            "_dom_classes": [],
            "_model_module": "@jupyter-widgets/controls",
            "_model_module_version": "1.5.0",
            "_model_name": "FloatProgressModel",
            "_view_count": null,
            "_view_module": "@jupyter-widgets/controls",
            "_view_module_version": "1.5.0",
            "_view_name": "ProgressView",
            "bar_style": "success",
            "description": "",
            "description_tooltip": null,
            "layout": "IPY_MODEL_ad2f2d4963394b4dafeb46fb3fd3c45d",
            "max": 116,
            "min": 0,
            "orientation": "horizontal",
            "style": "IPY_MODEL_5216ae167ee445d2853889736818e323",
            "value": 116
          }
        },
        "1ea3baeb3de3485f8ca3110f5c92a166": {
          "model_module": "@jupyter-widgets/controls",
          "model_name": "HTMLModel",
          "model_module_version": "1.5.0",
          "state": {
            "_dom_classes": [],
            "_model_module": "@jupyter-widgets/controls",
            "_model_module_version": "1.5.0",
            "_model_name": "HTMLModel",
            "_view_count": null,
            "_view_module": "@jupyter-widgets/controls",
            "_view_module_version": "1.5.0",
            "_view_name": "HTMLView",
            "description": "",
            "description_tooltip": null,
            "layout": "IPY_MODEL_dd1ef7d24e1d44c9b108962c5d74fb05",
            "placeholder": "​",
            "style": "IPY_MODEL_7bef3e3622e04ace8239ede36c198e16",
            "value": " 116/116 [00:00&lt;00:00, 12.8kB/s]"
          }
        },
        "c3cbe10f373f47ffacfcbb81e86e0c61": {
          "model_module": "@jupyter-widgets/base",
          "model_name": "LayoutModel",
          "model_module_version": "1.2.0",
          "state": {
            "_model_module": "@jupyter-widgets/base",
            "_model_module_version": "1.2.0",
            "_model_name": "LayoutModel",
            "_view_count": null,
            "_view_module": "@jupyter-widgets/base",
            "_view_module_version": "1.2.0",
            "_view_name": "LayoutView",
            "align_content": null,
            "align_items": null,
            "align_self": null,
            "border": null,
            "bottom": null,
            "display": null,
            "flex": null,
            "flex_flow": null,
            "grid_area": null,
            "grid_auto_columns": null,
            "grid_auto_flow": null,
            "grid_auto_rows": null,
            "grid_column": null,
            "grid_gap": null,
            "grid_row": null,
            "grid_template_areas": null,
            "grid_template_columns": null,
            "grid_template_rows": null,
            "height": null,
            "justify_content": null,
            "justify_items": null,
            "left": null,
            "margin": null,
            "max_height": null,
            "max_width": null,
            "min_height": null,
            "min_width": null,
            "object_fit": null,
            "object_position": null,
            "order": null,
            "overflow": null,
            "overflow_x": null,
            "overflow_y": null,
            "padding": null,
            "right": null,
            "top": null,
            "visibility": null,
            "width": null
          }
        },
        "4d942dc49e394090b6597a554c609fe4": {
          "model_module": "@jupyter-widgets/base",
          "model_name": "LayoutModel",
          "model_module_version": "1.2.0",
          "state": {
            "_model_module": "@jupyter-widgets/base",
            "_model_module_version": "1.2.0",
            "_model_name": "LayoutModel",
            "_view_count": null,
            "_view_module": "@jupyter-widgets/base",
            "_view_module_version": "1.2.0",
            "_view_name": "LayoutView",
            "align_content": null,
            "align_items": null,
            "align_self": null,
            "border": null,
            "bottom": null,
            "display": null,
            "flex": null,
            "flex_flow": null,
            "grid_area": null,
            "grid_auto_columns": null,
            "grid_auto_flow": null,
            "grid_auto_rows": null,
            "grid_column": null,
            "grid_gap": null,
            "grid_row": null,
            "grid_template_areas": null,
            "grid_template_columns": null,
            "grid_template_rows": null,
            "height": null,
            "justify_content": null,
            "justify_items": null,
            "left": null,
            "margin": null,
            "max_height": null,
            "max_width": null,
            "min_height": null,
            "min_width": null,
            "object_fit": null,
            "object_position": null,
            "order": null,
            "overflow": null,
            "overflow_x": null,
            "overflow_y": null,
            "padding": null,
            "right": null,
            "top": null,
            "visibility": null,
            "width": null
          }
        },
        "746f5fe2543044f29295cd5dff240657": {
          "model_module": "@jupyter-widgets/controls",
          "model_name": "DescriptionStyleModel",
          "model_module_version": "1.5.0",
          "state": {
            "_model_module": "@jupyter-widgets/controls",
            "_model_module_version": "1.5.0",
            "_model_name": "DescriptionStyleModel",
            "_view_count": null,
            "_view_module": "@jupyter-widgets/base",
            "_view_module_version": "1.2.0",
            "_view_name": "StyleView",
            "description_width": ""
          }
        },
        "ad2f2d4963394b4dafeb46fb3fd3c45d": {
          "model_module": "@jupyter-widgets/base",
          "model_name": "LayoutModel",
          "model_module_version": "1.2.0",
          "state": {
            "_model_module": "@jupyter-widgets/base",
            "_model_module_version": "1.2.0",
            "_model_name": "LayoutModel",
            "_view_count": null,
            "_view_module": "@jupyter-widgets/base",
            "_view_module_version": "1.2.0",
            "_view_name": "LayoutView",
            "align_content": null,
            "align_items": null,
            "align_self": null,
            "border": null,
            "bottom": null,
            "display": null,
            "flex": null,
            "flex_flow": null,
            "grid_area": null,
            "grid_auto_columns": null,
            "grid_auto_flow": null,
            "grid_auto_rows": null,
            "grid_column": null,
            "grid_gap": null,
            "grid_row": null,
            "grid_template_areas": null,
            "grid_template_columns": null,
            "grid_template_rows": null,
            "height": null,
            "justify_content": null,
            "justify_items": null,
            "left": null,
            "margin": null,
            "max_height": null,
            "max_width": null,
            "min_height": null,
            "min_width": null,
            "object_fit": null,
            "object_position": null,
            "order": null,
            "overflow": null,
            "overflow_x": null,
            "overflow_y": null,
            "padding": null,
            "right": null,
            "top": null,
            "visibility": null,
            "width": null
          }
        },
        "5216ae167ee445d2853889736818e323": {
          "model_module": "@jupyter-widgets/controls",
          "model_name": "ProgressStyleModel",
          "model_module_version": "1.5.0",
          "state": {
            "_model_module": "@jupyter-widgets/controls",
            "_model_module_version": "1.5.0",
            "_model_name": "ProgressStyleModel",
            "_view_count": null,
            "_view_module": "@jupyter-widgets/base",
            "_view_module_version": "1.2.0",
            "_view_name": "StyleView",
            "bar_color": null,
            "description_width": ""
          }
        },
        "dd1ef7d24e1d44c9b108962c5d74fb05": {
          "model_module": "@jupyter-widgets/base",
          "model_name": "LayoutModel",
          "model_module_version": "1.2.0",
          "state": {
            "_model_module": "@jupyter-widgets/base",
            "_model_module_version": "1.2.0",
            "_model_name": "LayoutModel",
            "_view_count": null,
            "_view_module": "@jupyter-widgets/base",
            "_view_module_version": "1.2.0",
            "_view_name": "LayoutView",
            "align_content": null,
            "align_items": null,
            "align_self": null,
            "border": null,
            "bottom": null,
            "display": null,
            "flex": null,
            "flex_flow": null,
            "grid_area": null,
            "grid_auto_columns": null,
            "grid_auto_flow": null,
            "grid_auto_rows": null,
            "grid_column": null,
            "grid_gap": null,
            "grid_row": null,
            "grid_template_areas": null,
            "grid_template_columns": null,
            "grid_template_rows": null,
            "height": null,
            "justify_content": null,
            "justify_items": null,
            "left": null,
            "margin": null,
            "max_height": null,
            "max_width": null,
            "min_height": null,
            "min_width": null,
            "object_fit": null,
            "object_position": null,
            "order": null,
            "overflow": null,
            "overflow_x": null,
            "overflow_y": null,
            "padding": null,
            "right": null,
            "top": null,
            "visibility": null,
            "width": null
          }
        },
        "7bef3e3622e04ace8239ede36c198e16": {
          "model_module": "@jupyter-widgets/controls",
          "model_name": "DescriptionStyleModel",
          "model_module_version": "1.5.0",
          "state": {
            "_model_module": "@jupyter-widgets/controls",
            "_model_module_version": "1.5.0",
            "_model_name": "DescriptionStyleModel",
            "_view_count": null,
            "_view_module": "@jupyter-widgets/base",
            "_view_module_version": "1.2.0",
            "_view_name": "StyleView",
            "description_width": ""
          }
        },
        "41210c2e5b914aa7bee0f905ea891346": {
          "model_module": "@jupyter-widgets/controls",
          "model_name": "HBoxModel",
          "model_module_version": "1.5.0",
          "state": {
            "_dom_classes": [],
            "_model_module": "@jupyter-widgets/controls",
            "_model_module_version": "1.5.0",
            "_model_name": "HBoxModel",
            "_view_count": null,
            "_view_module": "@jupyter-widgets/controls",
            "_view_module_version": "1.5.0",
            "_view_name": "HBoxView",
            "box_style": "",
            "children": [
              "IPY_MODEL_06604edad7464065bd4cd01a4298cfac",
              "IPY_MODEL_f6f15f6cdc7d435fba1b1c8053efea44",
              "IPY_MODEL_4c3c9c24e8034147bd487bb1d2f89161"
            ],
            "layout": "IPY_MODEL_03eac766c69c4cfba6a9354212eec239"
          }
        },
        "06604edad7464065bd4cd01a4298cfac": {
          "model_module": "@jupyter-widgets/controls",
          "model_name": "HTMLModel",
          "model_module_version": "1.5.0",
          "state": {
            "_dom_classes": [],
            "_model_module": "@jupyter-widgets/controls",
            "_model_module_version": "1.5.0",
            "_model_name": "HTMLModel",
            "_view_count": null,
            "_view_module": "@jupyter-widgets/controls",
            "_view_module_version": "1.5.0",
            "_view_name": "HTMLView",
            "description": "",
            "description_tooltip": null,
            "layout": "IPY_MODEL_74e56c65ccdd4f94ba833d4b8e4a86eb",
            "placeholder": "​",
            "style": "IPY_MODEL_16be4fac9f19442ab36d57107253805b",
            "value": "README.md: "
          }
        },
        "f6f15f6cdc7d435fba1b1c8053efea44": {
          "model_module": "@jupyter-widgets/controls",
          "model_name": "FloatProgressModel",
          "model_module_version": "1.5.0",
          "state": {
            "_dom_classes": [],
            "_model_module": "@jupyter-widgets/controls",
            "_model_module_version": "1.5.0",
            "_model_name": "FloatProgressModel",
            "_view_count": null,
            "_view_module": "@jupyter-widgets/controls",
            "_view_module_version": "1.5.0",
            "_view_name": "ProgressView",
            "bar_style": "success",
            "description": "",
            "description_tooltip": null,
            "layout": "IPY_MODEL_c65e486b73c947e0ba0240658d2578ab",
            "max": 1,
            "min": 0,
            "orientation": "horizontal",
            "style": "IPY_MODEL_363e9411bdc94aacbe279ceb4005ac9e",
            "value": 1
          }
        },
        "4c3c9c24e8034147bd487bb1d2f89161": {
          "model_module": "@jupyter-widgets/controls",
          "model_name": "HTMLModel",
          "model_module_version": "1.5.0",
          "state": {
            "_dom_classes": [],
            "_model_module": "@jupyter-widgets/controls",
            "_model_module_version": "1.5.0",
            "_model_name": "HTMLModel",
            "_view_count": null,
            "_view_module": "@jupyter-widgets/controls",
            "_view_module_version": "1.5.0",
            "_view_name": "HTMLView",
            "description": "",
            "description_tooltip": null,
            "layout": "IPY_MODEL_1bd9aae2da3e44f49fe7574b1d485cb9",
            "placeholder": "​",
            "style": "IPY_MODEL_e99d3cf76a0d445ea0fbe766cb0ed43d",
            "value": " 10.5k/? [00:00&lt;00:00, 965kB/s]"
          }
        },
        "03eac766c69c4cfba6a9354212eec239": {
          "model_module": "@jupyter-widgets/base",
          "model_name": "LayoutModel",
          "model_module_version": "1.2.0",
          "state": {
            "_model_module": "@jupyter-widgets/base",
            "_model_module_version": "1.2.0",
            "_model_name": "LayoutModel",
            "_view_count": null,
            "_view_module": "@jupyter-widgets/base",
            "_view_module_version": "1.2.0",
            "_view_name": "LayoutView",
            "align_content": null,
            "align_items": null,
            "align_self": null,
            "border": null,
            "bottom": null,
            "display": null,
            "flex": null,
            "flex_flow": null,
            "grid_area": null,
            "grid_auto_columns": null,
            "grid_auto_flow": null,
            "grid_auto_rows": null,
            "grid_column": null,
            "grid_gap": null,
            "grid_row": null,
            "grid_template_areas": null,
            "grid_template_columns": null,
            "grid_template_rows": null,
            "height": null,
            "justify_content": null,
            "justify_items": null,
            "left": null,
            "margin": null,
            "max_height": null,
            "max_width": null,
            "min_height": null,
            "min_width": null,
            "object_fit": null,
            "object_position": null,
            "order": null,
            "overflow": null,
            "overflow_x": null,
            "overflow_y": null,
            "padding": null,
            "right": null,
            "top": null,
            "visibility": null,
            "width": null
          }
        },
        "74e56c65ccdd4f94ba833d4b8e4a86eb": {
          "model_module": "@jupyter-widgets/base",
          "model_name": "LayoutModel",
          "model_module_version": "1.2.0",
          "state": {
            "_model_module": "@jupyter-widgets/base",
            "_model_module_version": "1.2.0",
            "_model_name": "LayoutModel",
            "_view_count": null,
            "_view_module": "@jupyter-widgets/base",
            "_view_module_version": "1.2.0",
            "_view_name": "LayoutView",
            "align_content": null,
            "align_items": null,
            "align_self": null,
            "border": null,
            "bottom": null,
            "display": null,
            "flex": null,
            "flex_flow": null,
            "grid_area": null,
            "grid_auto_columns": null,
            "grid_auto_flow": null,
            "grid_auto_rows": null,
            "grid_column": null,
            "grid_gap": null,
            "grid_row": null,
            "grid_template_areas": null,
            "grid_template_columns": null,
            "grid_template_rows": null,
            "height": null,
            "justify_content": null,
            "justify_items": null,
            "left": null,
            "margin": null,
            "max_height": null,
            "max_width": null,
            "min_height": null,
            "min_width": null,
            "object_fit": null,
            "object_position": null,
            "order": null,
            "overflow": null,
            "overflow_x": null,
            "overflow_y": null,
            "padding": null,
            "right": null,
            "top": null,
            "visibility": null,
            "width": null
          }
        },
        "16be4fac9f19442ab36d57107253805b": {
          "model_module": "@jupyter-widgets/controls",
          "model_name": "DescriptionStyleModel",
          "model_module_version": "1.5.0",
          "state": {
            "_model_module": "@jupyter-widgets/controls",
            "_model_module_version": "1.5.0",
            "_model_name": "DescriptionStyleModel",
            "_view_count": null,
            "_view_module": "@jupyter-widgets/base",
            "_view_module_version": "1.2.0",
            "_view_name": "StyleView",
            "description_width": ""
          }
        },
        "c65e486b73c947e0ba0240658d2578ab": {
          "model_module": "@jupyter-widgets/base",
          "model_name": "LayoutModel",
          "model_module_version": "1.2.0",
          "state": {
            "_model_module": "@jupyter-widgets/base",
            "_model_module_version": "1.2.0",
            "_model_name": "LayoutModel",
            "_view_count": null,
            "_view_module": "@jupyter-widgets/base",
            "_view_module_version": "1.2.0",
            "_view_name": "LayoutView",
            "align_content": null,
            "align_items": null,
            "align_self": null,
            "border": null,
            "bottom": null,
            "display": null,
            "flex": null,
            "flex_flow": null,
            "grid_area": null,
            "grid_auto_columns": null,
            "grid_auto_flow": null,
            "grid_auto_rows": null,
            "grid_column": null,
            "grid_gap": null,
            "grid_row": null,
            "grid_template_areas": null,
            "grid_template_columns": null,
            "grid_template_rows": null,
            "height": null,
            "justify_content": null,
            "justify_items": null,
            "left": null,
            "margin": null,
            "max_height": null,
            "max_width": null,
            "min_height": null,
            "min_width": null,
            "object_fit": null,
            "object_position": null,
            "order": null,
            "overflow": null,
            "overflow_x": null,
            "overflow_y": null,
            "padding": null,
            "right": null,
            "top": null,
            "visibility": null,
            "width": "20px"
          }
        },
        "363e9411bdc94aacbe279ceb4005ac9e": {
          "model_module": "@jupyter-widgets/controls",
          "model_name": "ProgressStyleModel",
          "model_module_version": "1.5.0",
          "state": {
            "_model_module": "@jupyter-widgets/controls",
            "_model_module_version": "1.5.0",
            "_model_name": "ProgressStyleModel",
            "_view_count": null,
            "_view_module": "@jupyter-widgets/base",
            "_view_module_version": "1.2.0",
            "_view_name": "StyleView",
            "bar_color": null,
            "description_width": ""
          }
        },
        "1bd9aae2da3e44f49fe7574b1d485cb9": {
          "model_module": "@jupyter-widgets/base",
          "model_name": "LayoutModel",
          "model_module_version": "1.2.0",
          "state": {
            "_model_module": "@jupyter-widgets/base",
            "_model_module_version": "1.2.0",
            "_model_name": "LayoutModel",
            "_view_count": null,
            "_view_module": "@jupyter-widgets/base",
            "_view_module_version": "1.2.0",
            "_view_name": "LayoutView",
            "align_content": null,
            "align_items": null,
            "align_self": null,
            "border": null,
            "bottom": null,
            "display": null,
            "flex": null,
            "flex_flow": null,
            "grid_area": null,
            "grid_auto_columns": null,
            "grid_auto_flow": null,
            "grid_auto_rows": null,
            "grid_column": null,
            "grid_gap": null,
            "grid_row": null,
            "grid_template_areas": null,
            "grid_template_columns": null,
            "grid_template_rows": null,
            "height": null,
            "justify_content": null,
            "justify_items": null,
            "left": null,
            "margin": null,
            "max_height": null,
            "max_width": null,
            "min_height": null,
            "min_width": null,
            "object_fit": null,
            "object_position": null,
            "order": null,
            "overflow": null,
            "overflow_x": null,
            "overflow_y": null,
            "padding": null,
            "right": null,
            "top": null,
            "visibility": null,
            "width": null
          }
        },
        "e99d3cf76a0d445ea0fbe766cb0ed43d": {
          "model_module": "@jupyter-widgets/controls",
          "model_name": "DescriptionStyleModel",
          "model_module_version": "1.5.0",
          "state": {
            "_model_module": "@jupyter-widgets/controls",
            "_model_module_version": "1.5.0",
            "_model_name": "DescriptionStyleModel",
            "_view_count": null,
            "_view_module": "@jupyter-widgets/base",
            "_view_module_version": "1.2.0",
            "_view_name": "StyleView",
            "description_width": ""
          }
        },
        "d1d7e25608774109a1363a16e605ef3d": {
          "model_module": "@jupyter-widgets/controls",
          "model_name": "HBoxModel",
          "model_module_version": "1.5.0",
          "state": {
            "_dom_classes": [],
            "_model_module": "@jupyter-widgets/controls",
            "_model_module_version": "1.5.0",
            "_model_name": "HBoxModel",
            "_view_count": null,
            "_view_module": "@jupyter-widgets/controls",
            "_view_module_version": "1.5.0",
            "_view_name": "HBoxView",
            "box_style": "",
            "children": [
              "IPY_MODEL_2cb7b03888de4c9ca91aa289b3c31a1c",
              "IPY_MODEL_746c9d6a6ea74915a359fac4f702c6d9",
              "IPY_MODEL_c682f77cf1014969bba5b3c196bcc1da"
            ],
            "layout": "IPY_MODEL_714d606af2cd442a8a939e9768556c25"
          }
        },
        "2cb7b03888de4c9ca91aa289b3c31a1c": {
          "model_module": "@jupyter-widgets/controls",
          "model_name": "HTMLModel",
          "model_module_version": "1.5.0",
          "state": {
            "_dom_classes": [],
            "_model_module": "@jupyter-widgets/controls",
            "_model_module_version": "1.5.0",
            "_model_name": "HTMLModel",
            "_view_count": null,
            "_view_module": "@jupyter-widgets/controls",
            "_view_module_version": "1.5.0",
            "_view_name": "HTMLView",
            "description": "",
            "description_tooltip": null,
            "layout": "IPY_MODEL_ebc1495583f745eda97e8b18566356ef",
            "placeholder": "​",
            "style": "IPY_MODEL_4f8acb84f6ee4efea3a8a1ab8ae69857",
            "value": "sentence_bert_config.json: 100%"
          }
        },
        "746c9d6a6ea74915a359fac4f702c6d9": {
          "model_module": "@jupyter-widgets/controls",
          "model_name": "FloatProgressModel",
          "model_module_version": "1.5.0",
          "state": {
            "_dom_classes": [],
            "_model_module": "@jupyter-widgets/controls",
            "_model_module_version": "1.5.0",
            "_model_name": "FloatProgressModel",
            "_view_count": null,
            "_view_module": "@jupyter-widgets/controls",
            "_view_module_version": "1.5.0",
            "_view_name": "ProgressView",
            "bar_style": "success",
            "description": "",
            "description_tooltip": null,
            "layout": "IPY_MODEL_80ff07a23ad645c394fac6cc2aaa33f2",
            "max": 53,
            "min": 0,
            "orientation": "horizontal",
            "style": "IPY_MODEL_fa2f5bbd747b499b96eea3c8421a1031",
            "value": 53
          }
        },
        "c682f77cf1014969bba5b3c196bcc1da": {
          "model_module": "@jupyter-widgets/controls",
          "model_name": "HTMLModel",
          "model_module_version": "1.5.0",
          "state": {
            "_dom_classes": [],
            "_model_module": "@jupyter-widgets/controls",
            "_model_module_version": "1.5.0",
            "_model_name": "HTMLModel",
            "_view_count": null,
            "_view_module": "@jupyter-widgets/controls",
            "_view_module_version": "1.5.0",
            "_view_name": "HTMLView",
            "description": "",
            "description_tooltip": null,
            "layout": "IPY_MODEL_84b71d2a4bdd40e5a2947819abf6bef1",
            "placeholder": "​",
            "style": "IPY_MODEL_7d54b8e383674dbdb2883842a617111d",
            "value": " 53.0/53.0 [00:00&lt;00:00, 5.97kB/s]"
          }
        },
        "714d606af2cd442a8a939e9768556c25": {
          "model_module": "@jupyter-widgets/base",
          "model_name": "LayoutModel",
          "model_module_version": "1.2.0",
          "state": {
            "_model_module": "@jupyter-widgets/base",
            "_model_module_version": "1.2.0",
            "_model_name": "LayoutModel",
            "_view_count": null,
            "_view_module": "@jupyter-widgets/base",
            "_view_module_version": "1.2.0",
            "_view_name": "LayoutView",
            "align_content": null,
            "align_items": null,
            "align_self": null,
            "border": null,
            "bottom": null,
            "display": null,
            "flex": null,
            "flex_flow": null,
            "grid_area": null,
            "grid_auto_columns": null,
            "grid_auto_flow": null,
            "grid_auto_rows": null,
            "grid_column": null,
            "grid_gap": null,
            "grid_row": null,
            "grid_template_areas": null,
            "grid_template_columns": null,
            "grid_template_rows": null,
            "height": null,
            "justify_content": null,
            "justify_items": null,
            "left": null,
            "margin": null,
            "max_height": null,
            "max_width": null,
            "min_height": null,
            "min_width": null,
            "object_fit": null,
            "object_position": null,
            "order": null,
            "overflow": null,
            "overflow_x": null,
            "overflow_y": null,
            "padding": null,
            "right": null,
            "top": null,
            "visibility": null,
            "width": null
          }
        },
        "ebc1495583f745eda97e8b18566356ef": {
          "model_module": "@jupyter-widgets/base",
          "model_name": "LayoutModel",
          "model_module_version": "1.2.0",
          "state": {
            "_model_module": "@jupyter-widgets/base",
            "_model_module_version": "1.2.0",
            "_model_name": "LayoutModel",
            "_view_count": null,
            "_view_module": "@jupyter-widgets/base",
            "_view_module_version": "1.2.0",
            "_view_name": "LayoutView",
            "align_content": null,
            "align_items": null,
            "align_self": null,
            "border": null,
            "bottom": null,
            "display": null,
            "flex": null,
            "flex_flow": null,
            "grid_area": null,
            "grid_auto_columns": null,
            "grid_auto_flow": null,
            "grid_auto_rows": null,
            "grid_column": null,
            "grid_gap": null,
            "grid_row": null,
            "grid_template_areas": null,
            "grid_template_columns": null,
            "grid_template_rows": null,
            "height": null,
            "justify_content": null,
            "justify_items": null,
            "left": null,
            "margin": null,
            "max_height": null,
            "max_width": null,
            "min_height": null,
            "min_width": null,
            "object_fit": null,
            "object_position": null,
            "order": null,
            "overflow": null,
            "overflow_x": null,
            "overflow_y": null,
            "padding": null,
            "right": null,
            "top": null,
            "visibility": null,
            "width": null
          }
        },
        "4f8acb84f6ee4efea3a8a1ab8ae69857": {
          "model_module": "@jupyter-widgets/controls",
          "model_name": "DescriptionStyleModel",
          "model_module_version": "1.5.0",
          "state": {
            "_model_module": "@jupyter-widgets/controls",
            "_model_module_version": "1.5.0",
            "_model_name": "DescriptionStyleModel",
            "_view_count": null,
            "_view_module": "@jupyter-widgets/base",
            "_view_module_version": "1.2.0",
            "_view_name": "StyleView",
            "description_width": ""
          }
        },
        "80ff07a23ad645c394fac6cc2aaa33f2": {
          "model_module": "@jupyter-widgets/base",
          "model_name": "LayoutModel",
          "model_module_version": "1.2.0",
          "state": {
            "_model_module": "@jupyter-widgets/base",
            "_model_module_version": "1.2.0",
            "_model_name": "LayoutModel",
            "_view_count": null,
            "_view_module": "@jupyter-widgets/base",
            "_view_module_version": "1.2.0",
            "_view_name": "LayoutView",
            "align_content": null,
            "align_items": null,
            "align_self": null,
            "border": null,
            "bottom": null,
            "display": null,
            "flex": null,
            "flex_flow": null,
            "grid_area": null,
            "grid_auto_columns": null,
            "grid_auto_flow": null,
            "grid_auto_rows": null,
            "grid_column": null,
            "grid_gap": null,
            "grid_row": null,
            "grid_template_areas": null,
            "grid_template_columns": null,
            "grid_template_rows": null,
            "height": null,
            "justify_content": null,
            "justify_items": null,
            "left": null,
            "margin": null,
            "max_height": null,
            "max_width": null,
            "min_height": null,
            "min_width": null,
            "object_fit": null,
            "object_position": null,
            "order": null,
            "overflow": null,
            "overflow_x": null,
            "overflow_y": null,
            "padding": null,
            "right": null,
            "top": null,
            "visibility": null,
            "width": null
          }
        },
        "fa2f5bbd747b499b96eea3c8421a1031": {
          "model_module": "@jupyter-widgets/controls",
          "model_name": "ProgressStyleModel",
          "model_module_version": "1.5.0",
          "state": {
            "_model_module": "@jupyter-widgets/controls",
            "_model_module_version": "1.5.0",
            "_model_name": "ProgressStyleModel",
            "_view_count": null,
            "_view_module": "@jupyter-widgets/base",
            "_view_module_version": "1.2.0",
            "_view_name": "StyleView",
            "bar_color": null,
            "description_width": ""
          }
        },
        "84b71d2a4bdd40e5a2947819abf6bef1": {
          "model_module": "@jupyter-widgets/base",
          "model_name": "LayoutModel",
          "model_module_version": "1.2.0",
          "state": {
            "_model_module": "@jupyter-widgets/base",
            "_model_module_version": "1.2.0",
            "_model_name": "LayoutModel",
            "_view_count": null,
            "_view_module": "@jupyter-widgets/base",
            "_view_module_version": "1.2.0",
            "_view_name": "LayoutView",
            "align_content": null,
            "align_items": null,
            "align_self": null,
            "border": null,
            "bottom": null,
            "display": null,
            "flex": null,
            "flex_flow": null,
            "grid_area": null,
            "grid_auto_columns": null,
            "grid_auto_flow": null,
            "grid_auto_rows": null,
            "grid_column": null,
            "grid_gap": null,
            "grid_row": null,
            "grid_template_areas": null,
            "grid_template_columns": null,
            "grid_template_rows": null,
            "height": null,
            "justify_content": null,
            "justify_items": null,
            "left": null,
            "margin": null,
            "max_height": null,
            "max_width": null,
            "min_height": null,
            "min_width": null,
            "object_fit": null,
            "object_position": null,
            "order": null,
            "overflow": null,
            "overflow_x": null,
            "overflow_y": null,
            "padding": null,
            "right": null,
            "top": null,
            "visibility": null,
            "width": null
          }
        },
        "7d54b8e383674dbdb2883842a617111d": {
          "model_module": "@jupyter-widgets/controls",
          "model_name": "DescriptionStyleModel",
          "model_module_version": "1.5.0",
          "state": {
            "_model_module": "@jupyter-widgets/controls",
            "_model_module_version": "1.5.0",
            "_model_name": "DescriptionStyleModel",
            "_view_count": null,
            "_view_module": "@jupyter-widgets/base",
            "_view_module_version": "1.2.0",
            "_view_name": "StyleView",
            "description_width": ""
          }
        },
        "21de4e2b6d194aba8d32df855882a13e": {
          "model_module": "@jupyter-widgets/controls",
          "model_name": "HBoxModel",
          "model_module_version": "1.5.0",
          "state": {
            "_dom_classes": [],
            "_model_module": "@jupyter-widgets/controls",
            "_model_module_version": "1.5.0",
            "_model_name": "HBoxModel",
            "_view_count": null,
            "_view_module": "@jupyter-widgets/controls",
            "_view_module_version": "1.5.0",
            "_view_name": "HBoxView",
            "box_style": "",
            "children": [
              "IPY_MODEL_12186f48a3314868929d31884f20e129",
              "IPY_MODEL_a3bdd72852f944a2bd304a218660370d",
              "IPY_MODEL_a7147f0dccdb4a22b7e26957a7461a8a"
            ],
            "layout": "IPY_MODEL_bf831f3859914260957a4e85124384ec"
          }
        },
        "12186f48a3314868929d31884f20e129": {
          "model_module": "@jupyter-widgets/controls",
          "model_name": "HTMLModel",
          "model_module_version": "1.5.0",
          "state": {
            "_dom_classes": [],
            "_model_module": "@jupyter-widgets/controls",
            "_model_module_version": "1.5.0",
            "_model_name": "HTMLModel",
            "_view_count": null,
            "_view_module": "@jupyter-widgets/controls",
            "_view_module_version": "1.5.0",
            "_view_name": "HTMLView",
            "description": "",
            "description_tooltip": null,
            "layout": "IPY_MODEL_6f3e8c373cdf4de6ae16408333960fdc",
            "placeholder": "​",
            "style": "IPY_MODEL_a9bbb9dcacaf4615bea64860db3e9393",
            "value": "config.json: 100%"
          }
        },
        "a3bdd72852f944a2bd304a218660370d": {
          "model_module": "@jupyter-widgets/controls",
          "model_name": "FloatProgressModel",
          "model_module_version": "1.5.0",
          "state": {
            "_dom_classes": [],
            "_model_module": "@jupyter-widgets/controls",
            "_model_module_version": "1.5.0",
            "_model_name": "FloatProgressModel",
            "_view_count": null,
            "_view_module": "@jupyter-widgets/controls",
            "_view_module_version": "1.5.0",
            "_view_name": "ProgressView",
            "bar_style": "success",
            "description": "",
            "description_tooltip": null,
            "layout": "IPY_MODEL_fa7c47a88f5d47af9e7f5acaca3baa2a",
            "max": 612,
            "min": 0,
            "orientation": "horizontal",
            "style": "IPY_MODEL_de00f83386f1400381056ca9a5082d48",
            "value": 612
          }
        },
        "a7147f0dccdb4a22b7e26957a7461a8a": {
          "model_module": "@jupyter-widgets/controls",
          "model_name": "HTMLModel",
          "model_module_version": "1.5.0",
          "state": {
            "_dom_classes": [],
            "_model_module": "@jupyter-widgets/controls",
            "_model_module_version": "1.5.0",
            "_model_name": "HTMLModel",
            "_view_count": null,
            "_view_module": "@jupyter-widgets/controls",
            "_view_module_version": "1.5.0",
            "_view_name": "HTMLView",
            "description": "",
            "description_tooltip": null,
            "layout": "IPY_MODEL_16c70d1da3394116b165fca14641399e",
            "placeholder": "​",
            "style": "IPY_MODEL_5b8efca0bfa94274a2b1b023b61a1e69",
            "value": " 612/612 [00:00&lt;00:00, 63.0kB/s]"
          }
        },
        "bf831f3859914260957a4e85124384ec": {
          "model_module": "@jupyter-widgets/base",
          "model_name": "LayoutModel",
          "model_module_version": "1.2.0",
          "state": {
            "_model_module": "@jupyter-widgets/base",
            "_model_module_version": "1.2.0",
            "_model_name": "LayoutModel",
            "_view_count": null,
            "_view_module": "@jupyter-widgets/base",
            "_view_module_version": "1.2.0",
            "_view_name": "LayoutView",
            "align_content": null,
            "align_items": null,
            "align_self": null,
            "border": null,
            "bottom": null,
            "display": null,
            "flex": null,
            "flex_flow": null,
            "grid_area": null,
            "grid_auto_columns": null,
            "grid_auto_flow": null,
            "grid_auto_rows": null,
            "grid_column": null,
            "grid_gap": null,
            "grid_row": null,
            "grid_template_areas": null,
            "grid_template_columns": null,
            "grid_template_rows": null,
            "height": null,
            "justify_content": null,
            "justify_items": null,
            "left": null,
            "margin": null,
            "max_height": null,
            "max_width": null,
            "min_height": null,
            "min_width": null,
            "object_fit": null,
            "object_position": null,
            "order": null,
            "overflow": null,
            "overflow_x": null,
            "overflow_y": null,
            "padding": null,
            "right": null,
            "top": null,
            "visibility": null,
            "width": null
          }
        },
        "6f3e8c373cdf4de6ae16408333960fdc": {
          "model_module": "@jupyter-widgets/base",
          "model_name": "LayoutModel",
          "model_module_version": "1.2.0",
          "state": {
            "_model_module": "@jupyter-widgets/base",
            "_model_module_version": "1.2.0",
            "_model_name": "LayoutModel",
            "_view_count": null,
            "_view_module": "@jupyter-widgets/base",
            "_view_module_version": "1.2.0",
            "_view_name": "LayoutView",
            "align_content": null,
            "align_items": null,
            "align_self": null,
            "border": null,
            "bottom": null,
            "display": null,
            "flex": null,
            "flex_flow": null,
            "grid_area": null,
            "grid_auto_columns": null,
            "grid_auto_flow": null,
            "grid_auto_rows": null,
            "grid_column": null,
            "grid_gap": null,
            "grid_row": null,
            "grid_template_areas": null,
            "grid_template_columns": null,
            "grid_template_rows": null,
            "height": null,
            "justify_content": null,
            "justify_items": null,
            "left": null,
            "margin": null,
            "max_height": null,
            "max_width": null,
            "min_height": null,
            "min_width": null,
            "object_fit": null,
            "object_position": null,
            "order": null,
            "overflow": null,
            "overflow_x": null,
            "overflow_y": null,
            "padding": null,
            "right": null,
            "top": null,
            "visibility": null,
            "width": null
          }
        },
        "a9bbb9dcacaf4615bea64860db3e9393": {
          "model_module": "@jupyter-widgets/controls",
          "model_name": "DescriptionStyleModel",
          "model_module_version": "1.5.0",
          "state": {
            "_model_module": "@jupyter-widgets/controls",
            "_model_module_version": "1.5.0",
            "_model_name": "DescriptionStyleModel",
            "_view_count": null,
            "_view_module": "@jupyter-widgets/base",
            "_view_module_version": "1.2.0",
            "_view_name": "StyleView",
            "description_width": ""
          }
        },
        "fa7c47a88f5d47af9e7f5acaca3baa2a": {
          "model_module": "@jupyter-widgets/base",
          "model_name": "LayoutModel",
          "model_module_version": "1.2.0",
          "state": {
            "_model_module": "@jupyter-widgets/base",
            "_model_module_version": "1.2.0",
            "_model_name": "LayoutModel",
            "_view_count": null,
            "_view_module": "@jupyter-widgets/base",
            "_view_module_version": "1.2.0",
            "_view_name": "LayoutView",
            "align_content": null,
            "align_items": null,
            "align_self": null,
            "border": null,
            "bottom": null,
            "display": null,
            "flex": null,
            "flex_flow": null,
            "grid_area": null,
            "grid_auto_columns": null,
            "grid_auto_flow": null,
            "grid_auto_rows": null,
            "grid_column": null,
            "grid_gap": null,
            "grid_row": null,
            "grid_template_areas": null,
            "grid_template_columns": null,
            "grid_template_rows": null,
            "height": null,
            "justify_content": null,
            "justify_items": null,
            "left": null,
            "margin": null,
            "max_height": null,
            "max_width": null,
            "min_height": null,
            "min_width": null,
            "object_fit": null,
            "object_position": null,
            "order": null,
            "overflow": null,
            "overflow_x": null,
            "overflow_y": null,
            "padding": null,
            "right": null,
            "top": null,
            "visibility": null,
            "width": null
          }
        },
        "de00f83386f1400381056ca9a5082d48": {
          "model_module": "@jupyter-widgets/controls",
          "model_name": "ProgressStyleModel",
          "model_module_version": "1.5.0",
          "state": {
            "_model_module": "@jupyter-widgets/controls",
            "_model_module_version": "1.5.0",
            "_model_name": "ProgressStyleModel",
            "_view_count": null,
            "_view_module": "@jupyter-widgets/base",
            "_view_module_version": "1.2.0",
            "_view_name": "StyleView",
            "bar_color": null,
            "description_width": ""
          }
        },
        "16c70d1da3394116b165fca14641399e": {
          "model_module": "@jupyter-widgets/base",
          "model_name": "LayoutModel",
          "model_module_version": "1.2.0",
          "state": {
            "_model_module": "@jupyter-widgets/base",
            "_model_module_version": "1.2.0",
            "_model_name": "LayoutModel",
            "_view_count": null,
            "_view_module": "@jupyter-widgets/base",
            "_view_module_version": "1.2.0",
            "_view_name": "LayoutView",
            "align_content": null,
            "align_items": null,
            "align_self": null,
            "border": null,
            "bottom": null,
            "display": null,
            "flex": null,
            "flex_flow": null,
            "grid_area": null,
            "grid_auto_columns": null,
            "grid_auto_flow": null,
            "grid_auto_rows": null,
            "grid_column": null,
            "grid_gap": null,
            "grid_row": null,
            "grid_template_areas": null,
            "grid_template_columns": null,
            "grid_template_rows": null,
            "height": null,
            "justify_content": null,
            "justify_items": null,
            "left": null,
            "margin": null,
            "max_height": null,
            "max_width": null,
            "min_height": null,
            "min_width": null,
            "object_fit": null,
            "object_position": null,
            "order": null,
            "overflow": null,
            "overflow_x": null,
            "overflow_y": null,
            "padding": null,
            "right": null,
            "top": null,
            "visibility": null,
            "width": null
          }
        },
        "5b8efca0bfa94274a2b1b023b61a1e69": {
          "model_module": "@jupyter-widgets/controls",
          "model_name": "DescriptionStyleModel",
          "model_module_version": "1.5.0",
          "state": {
            "_model_module": "@jupyter-widgets/controls",
            "_model_module_version": "1.5.0",
            "_model_name": "DescriptionStyleModel",
            "_view_count": null,
            "_view_module": "@jupyter-widgets/base",
            "_view_module_version": "1.2.0",
            "_view_name": "StyleView",
            "description_width": ""
          }
        },
        "badf2a93f8eb491b92d54047c045b87b": {
          "model_module": "@jupyter-widgets/controls",
          "model_name": "HBoxModel",
          "model_module_version": "1.5.0",
          "state": {
            "_dom_classes": [],
            "_model_module": "@jupyter-widgets/controls",
            "_model_module_version": "1.5.0",
            "_model_name": "HBoxModel",
            "_view_count": null,
            "_view_module": "@jupyter-widgets/controls",
            "_view_module_version": "1.5.0",
            "_view_name": "HBoxView",
            "box_style": "",
            "children": [
              "IPY_MODEL_51f7abbc98c44bd2b1f9a471b16a0ad2",
              "IPY_MODEL_1f67f17c07de439f8cc3c30e5cf67d36",
              "IPY_MODEL_c1b4af1f03e7478684e7e70670150ca8"
            ],
            "layout": "IPY_MODEL_5b467f77a3d9409ab040ec74c6ff0d8f"
          }
        },
        "51f7abbc98c44bd2b1f9a471b16a0ad2": {
          "model_module": "@jupyter-widgets/controls",
          "model_name": "HTMLModel",
          "model_module_version": "1.5.0",
          "state": {
            "_dom_classes": [],
            "_model_module": "@jupyter-widgets/controls",
            "_model_module_version": "1.5.0",
            "_model_name": "HTMLModel",
            "_view_count": null,
            "_view_module": "@jupyter-widgets/controls",
            "_view_module_version": "1.5.0",
            "_view_name": "HTMLView",
            "description": "",
            "description_tooltip": null,
            "layout": "IPY_MODEL_f5300e09ad574f38b868d93d6372e30c",
            "placeholder": "​",
            "style": "IPY_MODEL_2209e85d2bb24ca1b6f15500346da86a",
            "value": "model.safetensors: 100%"
          }
        },
        "1f67f17c07de439f8cc3c30e5cf67d36": {
          "model_module": "@jupyter-widgets/controls",
          "model_name": "FloatProgressModel",
          "model_module_version": "1.5.0",
          "state": {
            "_dom_classes": [],
            "_model_module": "@jupyter-widgets/controls",
            "_model_module_version": "1.5.0",
            "_model_name": "FloatProgressModel",
            "_view_count": null,
            "_view_module": "@jupyter-widgets/controls",
            "_view_module_version": "1.5.0",
            "_view_name": "ProgressView",
            "bar_style": "success",
            "description": "",
            "description_tooltip": null,
            "layout": "IPY_MODEL_aba1b7c24380495d90095fba23f41263",
            "max": 90868376,
            "min": 0,
            "orientation": "horizontal",
            "style": "IPY_MODEL_c5dfdae5feb9426fb2d56a78dbf1a738",
            "value": 90868376
          }
        },
        "c1b4af1f03e7478684e7e70670150ca8": {
          "model_module": "@jupyter-widgets/controls",
          "model_name": "HTMLModel",
          "model_module_version": "1.5.0",
          "state": {
            "_dom_classes": [],
            "_model_module": "@jupyter-widgets/controls",
            "_model_module_version": "1.5.0",
            "_model_name": "HTMLModel",
            "_view_count": null,
            "_view_module": "@jupyter-widgets/controls",
            "_view_module_version": "1.5.0",
            "_view_name": "HTMLView",
            "description": "",
            "description_tooltip": null,
            "layout": "IPY_MODEL_fbef6d0b478049b5b344e6514a7853ec",
            "placeholder": "​",
            "style": "IPY_MODEL_f0894a1cf99c4deaa45ac68393fe1365",
            "value": " 90.9M/90.9M [00:01&lt;00:00, 91.4MB/s]"
          }
        },
        "5b467f77a3d9409ab040ec74c6ff0d8f": {
          "model_module": "@jupyter-widgets/base",
          "model_name": "LayoutModel",
          "model_module_version": "1.2.0",
          "state": {
            "_model_module": "@jupyter-widgets/base",
            "_model_module_version": "1.2.0",
            "_model_name": "LayoutModel",
            "_view_count": null,
            "_view_module": "@jupyter-widgets/base",
            "_view_module_version": "1.2.0",
            "_view_name": "LayoutView",
            "align_content": null,
            "align_items": null,
            "align_self": null,
            "border": null,
            "bottom": null,
            "display": null,
            "flex": null,
            "flex_flow": null,
            "grid_area": null,
            "grid_auto_columns": null,
            "grid_auto_flow": null,
            "grid_auto_rows": null,
            "grid_column": null,
            "grid_gap": null,
            "grid_row": null,
            "grid_template_areas": null,
            "grid_template_columns": null,
            "grid_template_rows": null,
            "height": null,
            "justify_content": null,
            "justify_items": null,
            "left": null,
            "margin": null,
            "max_height": null,
            "max_width": null,
            "min_height": null,
            "min_width": null,
            "object_fit": null,
            "object_position": null,
            "order": null,
            "overflow": null,
            "overflow_x": null,
            "overflow_y": null,
            "padding": null,
            "right": null,
            "top": null,
            "visibility": null,
            "width": null
          }
        },
        "f5300e09ad574f38b868d93d6372e30c": {
          "model_module": "@jupyter-widgets/base",
          "model_name": "LayoutModel",
          "model_module_version": "1.2.0",
          "state": {
            "_model_module": "@jupyter-widgets/base",
            "_model_module_version": "1.2.0",
            "_model_name": "LayoutModel",
            "_view_count": null,
            "_view_module": "@jupyter-widgets/base",
            "_view_module_version": "1.2.0",
            "_view_name": "LayoutView",
            "align_content": null,
            "align_items": null,
            "align_self": null,
            "border": null,
            "bottom": null,
            "display": null,
            "flex": null,
            "flex_flow": null,
            "grid_area": null,
            "grid_auto_columns": null,
            "grid_auto_flow": null,
            "grid_auto_rows": null,
            "grid_column": null,
            "grid_gap": null,
            "grid_row": null,
            "grid_template_areas": null,
            "grid_template_columns": null,
            "grid_template_rows": null,
            "height": null,
            "justify_content": null,
            "justify_items": null,
            "left": null,
            "margin": null,
            "max_height": null,
            "max_width": null,
            "min_height": null,
            "min_width": null,
            "object_fit": null,
            "object_position": null,
            "order": null,
            "overflow": null,
            "overflow_x": null,
            "overflow_y": null,
            "padding": null,
            "right": null,
            "top": null,
            "visibility": null,
            "width": null
          }
        },
        "2209e85d2bb24ca1b6f15500346da86a": {
          "model_module": "@jupyter-widgets/controls",
          "model_name": "DescriptionStyleModel",
          "model_module_version": "1.5.0",
          "state": {
            "_model_module": "@jupyter-widgets/controls",
            "_model_module_version": "1.5.0",
            "_model_name": "DescriptionStyleModel",
            "_view_count": null,
            "_view_module": "@jupyter-widgets/base",
            "_view_module_version": "1.2.0",
            "_view_name": "StyleView",
            "description_width": ""
          }
        },
        "aba1b7c24380495d90095fba23f41263": {
          "model_module": "@jupyter-widgets/base",
          "model_name": "LayoutModel",
          "model_module_version": "1.2.0",
          "state": {
            "_model_module": "@jupyter-widgets/base",
            "_model_module_version": "1.2.0",
            "_model_name": "LayoutModel",
            "_view_count": null,
            "_view_module": "@jupyter-widgets/base",
            "_view_module_version": "1.2.0",
            "_view_name": "LayoutView",
            "align_content": null,
            "align_items": null,
            "align_self": null,
            "border": null,
            "bottom": null,
            "display": null,
            "flex": null,
            "flex_flow": null,
            "grid_area": null,
            "grid_auto_columns": null,
            "grid_auto_flow": null,
            "grid_auto_rows": null,
            "grid_column": null,
            "grid_gap": null,
            "grid_row": null,
            "grid_template_areas": null,
            "grid_template_columns": null,
            "grid_template_rows": null,
            "height": null,
            "justify_content": null,
            "justify_items": null,
            "left": null,
            "margin": null,
            "max_height": null,
            "max_width": null,
            "min_height": null,
            "min_width": null,
            "object_fit": null,
            "object_position": null,
            "order": null,
            "overflow": null,
            "overflow_x": null,
            "overflow_y": null,
            "padding": null,
            "right": null,
            "top": null,
            "visibility": null,
            "width": null
          }
        },
        "c5dfdae5feb9426fb2d56a78dbf1a738": {
          "model_module": "@jupyter-widgets/controls",
          "model_name": "ProgressStyleModel",
          "model_module_version": "1.5.0",
          "state": {
            "_model_module": "@jupyter-widgets/controls",
            "_model_module_version": "1.5.0",
            "_model_name": "ProgressStyleModel",
            "_view_count": null,
            "_view_module": "@jupyter-widgets/base",
            "_view_module_version": "1.2.0",
            "_view_name": "StyleView",
            "bar_color": null,
            "description_width": ""
          }
        },
        "fbef6d0b478049b5b344e6514a7853ec": {
          "model_module": "@jupyter-widgets/base",
          "model_name": "LayoutModel",
          "model_module_version": "1.2.0",
          "state": {
            "_model_module": "@jupyter-widgets/base",
            "_model_module_version": "1.2.0",
            "_model_name": "LayoutModel",
            "_view_count": null,
            "_view_module": "@jupyter-widgets/base",
            "_view_module_version": "1.2.0",
            "_view_name": "LayoutView",
            "align_content": null,
            "align_items": null,
            "align_self": null,
            "border": null,
            "bottom": null,
            "display": null,
            "flex": null,
            "flex_flow": null,
            "grid_area": null,
            "grid_auto_columns": null,
            "grid_auto_flow": null,
            "grid_auto_rows": null,
            "grid_column": null,
            "grid_gap": null,
            "grid_row": null,
            "grid_template_areas": null,
            "grid_template_columns": null,
            "grid_template_rows": null,
            "height": null,
            "justify_content": null,
            "justify_items": null,
            "left": null,
            "margin": null,
            "max_height": null,
            "max_width": null,
            "min_height": null,
            "min_width": null,
            "object_fit": null,
            "object_position": null,
            "order": null,
            "overflow": null,
            "overflow_x": null,
            "overflow_y": null,
            "padding": null,
            "right": null,
            "top": null,
            "visibility": null,
            "width": null
          }
        },
        "f0894a1cf99c4deaa45ac68393fe1365": {
          "model_module": "@jupyter-widgets/controls",
          "model_name": "DescriptionStyleModel",
          "model_module_version": "1.5.0",
          "state": {
            "_model_module": "@jupyter-widgets/controls",
            "_model_module_version": "1.5.0",
            "_model_name": "DescriptionStyleModel",
            "_view_count": null,
            "_view_module": "@jupyter-widgets/base",
            "_view_module_version": "1.2.0",
            "_view_name": "StyleView",
            "description_width": ""
          }
        },
        "5c74f69bd819402396998aa00f644666": {
          "model_module": "@jupyter-widgets/controls",
          "model_name": "HBoxModel",
          "model_module_version": "1.5.0",
          "state": {
            "_dom_classes": [],
            "_model_module": "@jupyter-widgets/controls",
            "_model_module_version": "1.5.0",
            "_model_name": "HBoxModel",
            "_view_count": null,
            "_view_module": "@jupyter-widgets/controls",
            "_view_module_version": "1.5.0",
            "_view_name": "HBoxView",
            "box_style": "",
            "children": [
              "IPY_MODEL_730c0374dbcf4e36a815b78f4606b5b8",
              "IPY_MODEL_a047ed78ab264c85a41b1f20525a0063",
              "IPY_MODEL_9ac4822406e54d7199ec20ec20e812d9"
            ],
            "layout": "IPY_MODEL_4d61a530c1374cf0be1c3b74ae3b62e8"
          }
        },
        "730c0374dbcf4e36a815b78f4606b5b8": {
          "model_module": "@jupyter-widgets/controls",
          "model_name": "HTMLModel",
          "model_module_version": "1.5.0",
          "state": {
            "_dom_classes": [],
            "_model_module": "@jupyter-widgets/controls",
            "_model_module_version": "1.5.0",
            "_model_name": "HTMLModel",
            "_view_count": null,
            "_view_module": "@jupyter-widgets/controls",
            "_view_module_version": "1.5.0",
            "_view_name": "HTMLView",
            "description": "",
            "description_tooltip": null,
            "layout": "IPY_MODEL_7d6b97112cff466cabeeda5e794f7557",
            "placeholder": "​",
            "style": "IPY_MODEL_d792cf8cb8ab471785a3532f647bc00e",
            "value": "tokenizer_config.json: 100%"
          }
        },
        "a047ed78ab264c85a41b1f20525a0063": {
          "model_module": "@jupyter-widgets/controls",
          "model_name": "FloatProgressModel",
          "model_module_version": "1.5.0",
          "state": {
            "_dom_classes": [],
            "_model_module": "@jupyter-widgets/controls",
            "_model_module_version": "1.5.0",
            "_model_name": "FloatProgressModel",
            "_view_count": null,
            "_view_module": "@jupyter-widgets/controls",
            "_view_module_version": "1.5.0",
            "_view_name": "ProgressView",
            "bar_style": "success",
            "description": "",
            "description_tooltip": null,
            "layout": "IPY_MODEL_109cc55ddcb446bf96d465953a9b4894",
            "max": 350,
            "min": 0,
            "orientation": "horizontal",
            "style": "IPY_MODEL_62912091f0a942daaf20ad8723c85a71",
            "value": 350
          }
        },
        "9ac4822406e54d7199ec20ec20e812d9": {
          "model_module": "@jupyter-widgets/controls",
          "model_name": "HTMLModel",
          "model_module_version": "1.5.0",
          "state": {
            "_dom_classes": [],
            "_model_module": "@jupyter-widgets/controls",
            "_model_module_version": "1.5.0",
            "_model_name": "HTMLModel",
            "_view_count": null,
            "_view_module": "@jupyter-widgets/controls",
            "_view_module_version": "1.5.0",
            "_view_name": "HTMLView",
            "description": "",
            "description_tooltip": null,
            "layout": "IPY_MODEL_34ecf000dccf4a8b89acf1ab7d1cdece",
            "placeholder": "​",
            "style": "IPY_MODEL_1f45372d9c6f4804b118a0552a529351",
            "value": " 350/350 [00:00&lt;00:00, 19.2kB/s]"
          }
        },
        "4d61a530c1374cf0be1c3b74ae3b62e8": {
          "model_module": "@jupyter-widgets/base",
          "model_name": "LayoutModel",
          "model_module_version": "1.2.0",
          "state": {
            "_model_module": "@jupyter-widgets/base",
            "_model_module_version": "1.2.0",
            "_model_name": "LayoutModel",
            "_view_count": null,
            "_view_module": "@jupyter-widgets/base",
            "_view_module_version": "1.2.0",
            "_view_name": "LayoutView",
            "align_content": null,
            "align_items": null,
            "align_self": null,
            "border": null,
            "bottom": null,
            "display": null,
            "flex": null,
            "flex_flow": null,
            "grid_area": null,
            "grid_auto_columns": null,
            "grid_auto_flow": null,
            "grid_auto_rows": null,
            "grid_column": null,
            "grid_gap": null,
            "grid_row": null,
            "grid_template_areas": null,
            "grid_template_columns": null,
            "grid_template_rows": null,
            "height": null,
            "justify_content": null,
            "justify_items": null,
            "left": null,
            "margin": null,
            "max_height": null,
            "max_width": null,
            "min_height": null,
            "min_width": null,
            "object_fit": null,
            "object_position": null,
            "order": null,
            "overflow": null,
            "overflow_x": null,
            "overflow_y": null,
            "padding": null,
            "right": null,
            "top": null,
            "visibility": null,
            "width": null
          }
        },
        "7d6b97112cff466cabeeda5e794f7557": {
          "model_module": "@jupyter-widgets/base",
          "model_name": "LayoutModel",
          "model_module_version": "1.2.0",
          "state": {
            "_model_module": "@jupyter-widgets/base",
            "_model_module_version": "1.2.0",
            "_model_name": "LayoutModel",
            "_view_count": null,
            "_view_module": "@jupyter-widgets/base",
            "_view_module_version": "1.2.0",
            "_view_name": "LayoutView",
            "align_content": null,
            "align_items": null,
            "align_self": null,
            "border": null,
            "bottom": null,
            "display": null,
            "flex": null,
            "flex_flow": null,
            "grid_area": null,
            "grid_auto_columns": null,
            "grid_auto_flow": null,
            "grid_auto_rows": null,
            "grid_column": null,
            "grid_gap": null,
            "grid_row": null,
            "grid_template_areas": null,
            "grid_template_columns": null,
            "grid_template_rows": null,
            "height": null,
            "justify_content": null,
            "justify_items": null,
            "left": null,
            "margin": null,
            "max_height": null,
            "max_width": null,
            "min_height": null,
            "min_width": null,
            "object_fit": null,
            "object_position": null,
            "order": null,
            "overflow": null,
            "overflow_x": null,
            "overflow_y": null,
            "padding": null,
            "right": null,
            "top": null,
            "visibility": null,
            "width": null
          }
        },
        "d792cf8cb8ab471785a3532f647bc00e": {
          "model_module": "@jupyter-widgets/controls",
          "model_name": "DescriptionStyleModel",
          "model_module_version": "1.5.0",
          "state": {
            "_model_module": "@jupyter-widgets/controls",
            "_model_module_version": "1.5.0",
            "_model_name": "DescriptionStyleModel",
            "_view_count": null,
            "_view_module": "@jupyter-widgets/base",
            "_view_module_version": "1.2.0",
            "_view_name": "StyleView",
            "description_width": ""
          }
        },
        "109cc55ddcb446bf96d465953a9b4894": {
          "model_module": "@jupyter-widgets/base",
          "model_name": "LayoutModel",
          "model_module_version": "1.2.0",
          "state": {
            "_model_module": "@jupyter-widgets/base",
            "_model_module_version": "1.2.0",
            "_model_name": "LayoutModel",
            "_view_count": null,
            "_view_module": "@jupyter-widgets/base",
            "_view_module_version": "1.2.0",
            "_view_name": "LayoutView",
            "align_content": null,
            "align_items": null,
            "align_self": null,
            "border": null,
            "bottom": null,
            "display": null,
            "flex": null,
            "flex_flow": null,
            "grid_area": null,
            "grid_auto_columns": null,
            "grid_auto_flow": null,
            "grid_auto_rows": null,
            "grid_column": null,
            "grid_gap": null,
            "grid_row": null,
            "grid_template_areas": null,
            "grid_template_columns": null,
            "grid_template_rows": null,
            "height": null,
            "justify_content": null,
            "justify_items": null,
            "left": null,
            "margin": null,
            "max_height": null,
            "max_width": null,
            "min_height": null,
            "min_width": null,
            "object_fit": null,
            "object_position": null,
            "order": null,
            "overflow": null,
            "overflow_x": null,
            "overflow_y": null,
            "padding": null,
            "right": null,
            "top": null,
            "visibility": null,
            "width": null
          }
        },
        "62912091f0a942daaf20ad8723c85a71": {
          "model_module": "@jupyter-widgets/controls",
          "model_name": "ProgressStyleModel",
          "model_module_version": "1.5.0",
          "state": {
            "_model_module": "@jupyter-widgets/controls",
            "_model_module_version": "1.5.0",
            "_model_name": "ProgressStyleModel",
            "_view_count": null,
            "_view_module": "@jupyter-widgets/base",
            "_view_module_version": "1.2.0",
            "_view_name": "StyleView",
            "bar_color": null,
            "description_width": ""
          }
        },
        "34ecf000dccf4a8b89acf1ab7d1cdece": {
          "model_module": "@jupyter-widgets/base",
          "model_name": "LayoutModel",
          "model_module_version": "1.2.0",
          "state": {
            "_model_module": "@jupyter-widgets/base",
            "_model_module_version": "1.2.0",
            "_model_name": "LayoutModel",
            "_view_count": null,
            "_view_module": "@jupyter-widgets/base",
            "_view_module_version": "1.2.0",
            "_view_name": "LayoutView",
            "align_content": null,
            "align_items": null,
            "align_self": null,
            "border": null,
            "bottom": null,
            "display": null,
            "flex": null,
            "flex_flow": null,
            "grid_area": null,
            "grid_auto_columns": null,
            "grid_auto_flow": null,
            "grid_auto_rows": null,
            "grid_column": null,
            "grid_gap": null,
            "grid_row": null,
            "grid_template_areas": null,
            "grid_template_columns": null,
            "grid_template_rows": null,
            "height": null,
            "justify_content": null,
            "justify_items": null,
            "left": null,
            "margin": null,
            "max_height": null,
            "max_width": null,
            "min_height": null,
            "min_width": null,
            "object_fit": null,
            "object_position": null,
            "order": null,
            "overflow": null,
            "overflow_x": null,
            "overflow_y": null,
            "padding": null,
            "right": null,
            "top": null,
            "visibility": null,
            "width": null
          }
        },
        "1f45372d9c6f4804b118a0552a529351": {
          "model_module": "@jupyter-widgets/controls",
          "model_name": "DescriptionStyleModel",
          "model_module_version": "1.5.0",
          "state": {
            "_model_module": "@jupyter-widgets/controls",
            "_model_module_version": "1.5.0",
            "_model_name": "DescriptionStyleModel",
            "_view_count": null,
            "_view_module": "@jupyter-widgets/base",
            "_view_module_version": "1.2.0",
            "_view_name": "StyleView",
            "description_width": ""
          }
        },
        "09b4b60c27054a8a86936d9135a769f1": {
          "model_module": "@jupyter-widgets/controls",
          "model_name": "HBoxModel",
          "model_module_version": "1.5.0",
          "state": {
            "_dom_classes": [],
            "_model_module": "@jupyter-widgets/controls",
            "_model_module_version": "1.5.0",
            "_model_name": "HBoxModel",
            "_view_count": null,
            "_view_module": "@jupyter-widgets/controls",
            "_view_module_version": "1.5.0",
            "_view_name": "HBoxView",
            "box_style": "",
            "children": [
              "IPY_MODEL_c668120df77045119b635f406f1d8abc",
              "IPY_MODEL_e37daf50d8b748a6bdb411a8976ce196",
              "IPY_MODEL_a691d484b9fe4dbdae019fc86cf77d84"
            ],
            "layout": "IPY_MODEL_e0795e81d2fe4a79be88048260cb3c7f"
          }
        },
        "c668120df77045119b635f406f1d8abc": {
          "model_module": "@jupyter-widgets/controls",
          "model_name": "HTMLModel",
          "model_module_version": "1.5.0",
          "state": {
            "_dom_classes": [],
            "_model_module": "@jupyter-widgets/controls",
            "_model_module_version": "1.5.0",
            "_model_name": "HTMLModel",
            "_view_count": null,
            "_view_module": "@jupyter-widgets/controls",
            "_view_module_version": "1.5.0",
            "_view_name": "HTMLView",
            "description": "",
            "description_tooltip": null,
            "layout": "IPY_MODEL_ff313363731f458086d350273e521994",
            "placeholder": "​",
            "style": "IPY_MODEL_b9a8de1cdcd44d42ad0e6e25d2f57907",
            "value": "vocab.txt: "
          }
        },
        "e37daf50d8b748a6bdb411a8976ce196": {
          "model_module": "@jupyter-widgets/controls",
          "model_name": "FloatProgressModel",
          "model_module_version": "1.5.0",
          "state": {
            "_dom_classes": [],
            "_model_module": "@jupyter-widgets/controls",
            "_model_module_version": "1.5.0",
            "_model_name": "FloatProgressModel",
            "_view_count": null,
            "_view_module": "@jupyter-widgets/controls",
            "_view_module_version": "1.5.0",
            "_view_name": "ProgressView",
            "bar_style": "success",
            "description": "",
            "description_tooltip": null,
            "layout": "IPY_MODEL_e92a12729bad4df390bbb7cc04583a89",
            "max": 1,
            "min": 0,
            "orientation": "horizontal",
            "style": "IPY_MODEL_f57ab9635c504df5935fa2131ab524fc",
            "value": 1
          }
        },
        "a691d484b9fe4dbdae019fc86cf77d84": {
          "model_module": "@jupyter-widgets/controls",
          "model_name": "HTMLModel",
          "model_module_version": "1.5.0",
          "state": {
            "_dom_classes": [],
            "_model_module": "@jupyter-widgets/controls",
            "_model_module_version": "1.5.0",
            "_model_name": "HTMLModel",
            "_view_count": null,
            "_view_module": "@jupyter-widgets/controls",
            "_view_module_version": "1.5.0",
            "_view_name": "HTMLView",
            "description": "",
            "description_tooltip": null,
            "layout": "IPY_MODEL_931f2340fe8e4ee9809eaf912f1e66bd",
            "placeholder": "​",
            "style": "IPY_MODEL_77e84168a04d4affacf49a4b80c38dbc",
            "value": " 232k/? [00:00&lt;00:00, 9.19MB/s]"
          }
        },
        "e0795e81d2fe4a79be88048260cb3c7f": {
          "model_module": "@jupyter-widgets/base",
          "model_name": "LayoutModel",
          "model_module_version": "1.2.0",
          "state": {
            "_model_module": "@jupyter-widgets/base",
            "_model_module_version": "1.2.0",
            "_model_name": "LayoutModel",
            "_view_count": null,
            "_view_module": "@jupyter-widgets/base",
            "_view_module_version": "1.2.0",
            "_view_name": "LayoutView",
            "align_content": null,
            "align_items": null,
            "align_self": null,
            "border": null,
            "bottom": null,
            "display": null,
            "flex": null,
            "flex_flow": null,
            "grid_area": null,
            "grid_auto_columns": null,
            "grid_auto_flow": null,
            "grid_auto_rows": null,
            "grid_column": null,
            "grid_gap": null,
            "grid_row": null,
            "grid_template_areas": null,
            "grid_template_columns": null,
            "grid_template_rows": null,
            "height": null,
            "justify_content": null,
            "justify_items": null,
            "left": null,
            "margin": null,
            "max_height": null,
            "max_width": null,
            "min_height": null,
            "min_width": null,
            "object_fit": null,
            "object_position": null,
            "order": null,
            "overflow": null,
            "overflow_x": null,
            "overflow_y": null,
            "padding": null,
            "right": null,
            "top": null,
            "visibility": null,
            "width": null
          }
        },
        "ff313363731f458086d350273e521994": {
          "model_module": "@jupyter-widgets/base",
          "model_name": "LayoutModel",
          "model_module_version": "1.2.0",
          "state": {
            "_model_module": "@jupyter-widgets/base",
            "_model_module_version": "1.2.0",
            "_model_name": "LayoutModel",
            "_view_count": null,
            "_view_module": "@jupyter-widgets/base",
            "_view_module_version": "1.2.0",
            "_view_name": "LayoutView",
            "align_content": null,
            "align_items": null,
            "align_self": null,
            "border": null,
            "bottom": null,
            "display": null,
            "flex": null,
            "flex_flow": null,
            "grid_area": null,
            "grid_auto_columns": null,
            "grid_auto_flow": null,
            "grid_auto_rows": null,
            "grid_column": null,
            "grid_gap": null,
            "grid_row": null,
            "grid_template_areas": null,
            "grid_template_columns": null,
            "grid_template_rows": null,
            "height": null,
            "justify_content": null,
            "justify_items": null,
            "left": null,
            "margin": null,
            "max_height": null,
            "max_width": null,
            "min_height": null,
            "min_width": null,
            "object_fit": null,
            "object_position": null,
            "order": null,
            "overflow": null,
            "overflow_x": null,
            "overflow_y": null,
            "padding": null,
            "right": null,
            "top": null,
            "visibility": null,
            "width": null
          }
        },
        "b9a8de1cdcd44d42ad0e6e25d2f57907": {
          "model_module": "@jupyter-widgets/controls",
          "model_name": "DescriptionStyleModel",
          "model_module_version": "1.5.0",
          "state": {
            "_model_module": "@jupyter-widgets/controls",
            "_model_module_version": "1.5.0",
            "_model_name": "DescriptionStyleModel",
            "_view_count": null,
            "_view_module": "@jupyter-widgets/base",
            "_view_module_version": "1.2.0",
            "_view_name": "StyleView",
            "description_width": ""
          }
        },
        "e92a12729bad4df390bbb7cc04583a89": {
          "model_module": "@jupyter-widgets/base",
          "model_name": "LayoutModel",
          "model_module_version": "1.2.0",
          "state": {
            "_model_module": "@jupyter-widgets/base",
            "_model_module_version": "1.2.0",
            "_model_name": "LayoutModel",
            "_view_count": null,
            "_view_module": "@jupyter-widgets/base",
            "_view_module_version": "1.2.0",
            "_view_name": "LayoutView",
            "align_content": null,
            "align_items": null,
            "align_self": null,
            "border": null,
            "bottom": null,
            "display": null,
            "flex": null,
            "flex_flow": null,
            "grid_area": null,
            "grid_auto_columns": null,
            "grid_auto_flow": null,
            "grid_auto_rows": null,
            "grid_column": null,
            "grid_gap": null,
            "grid_row": null,
            "grid_template_areas": null,
            "grid_template_columns": null,
            "grid_template_rows": null,
            "height": null,
            "justify_content": null,
            "justify_items": null,
            "left": null,
            "margin": null,
            "max_height": null,
            "max_width": null,
            "min_height": null,
            "min_width": null,
            "object_fit": null,
            "object_position": null,
            "order": null,
            "overflow": null,
            "overflow_x": null,
            "overflow_y": null,
            "padding": null,
            "right": null,
            "top": null,
            "visibility": null,
            "width": "20px"
          }
        },
        "f57ab9635c504df5935fa2131ab524fc": {
          "model_module": "@jupyter-widgets/controls",
          "model_name": "ProgressStyleModel",
          "model_module_version": "1.5.0",
          "state": {
            "_model_module": "@jupyter-widgets/controls",
            "_model_module_version": "1.5.0",
            "_model_name": "ProgressStyleModel",
            "_view_count": null,
            "_view_module": "@jupyter-widgets/base",
            "_view_module_version": "1.2.0",
            "_view_name": "StyleView",
            "bar_color": null,
            "description_width": ""
          }
        },
        "931f2340fe8e4ee9809eaf912f1e66bd": {
          "model_module": "@jupyter-widgets/base",
          "model_name": "LayoutModel",
          "model_module_version": "1.2.0",
          "state": {
            "_model_module": "@jupyter-widgets/base",
            "_model_module_version": "1.2.0",
            "_model_name": "LayoutModel",
            "_view_count": null,
            "_view_module": "@jupyter-widgets/base",
            "_view_module_version": "1.2.0",
            "_view_name": "LayoutView",
            "align_content": null,
            "align_items": null,
            "align_self": null,
            "border": null,
            "bottom": null,
            "display": null,
            "flex": null,
            "flex_flow": null,
            "grid_area": null,
            "grid_auto_columns": null,
            "grid_auto_flow": null,
            "grid_auto_rows": null,
            "grid_column": null,
            "grid_gap": null,
            "grid_row": null,
            "grid_template_areas": null,
            "grid_template_columns": null,
            "grid_template_rows": null,
            "height": null,
            "justify_content": null,
            "justify_items": null,
            "left": null,
            "margin": null,
            "max_height": null,
            "max_width": null,
            "min_height": null,
            "min_width": null,
            "object_fit": null,
            "object_position": null,
            "order": null,
            "overflow": null,
            "overflow_x": null,
            "overflow_y": null,
            "padding": null,
            "right": null,
            "top": null,
            "visibility": null,
            "width": null
          }
        },
        "77e84168a04d4affacf49a4b80c38dbc": {
          "model_module": "@jupyter-widgets/controls",
          "model_name": "DescriptionStyleModel",
          "model_module_version": "1.5.0",
          "state": {
            "_model_module": "@jupyter-widgets/controls",
            "_model_module_version": "1.5.0",
            "_model_name": "DescriptionStyleModel",
            "_view_count": null,
            "_view_module": "@jupyter-widgets/base",
            "_view_module_version": "1.2.0",
            "_view_name": "StyleView",
            "description_width": ""
          }
        },
        "c413f4e07c6e490ab53f3a7109c432a6": {
          "model_module": "@jupyter-widgets/controls",
          "model_name": "HBoxModel",
          "model_module_version": "1.5.0",
          "state": {
            "_dom_classes": [],
            "_model_module": "@jupyter-widgets/controls",
            "_model_module_version": "1.5.0",
            "_model_name": "HBoxModel",
            "_view_count": null,
            "_view_module": "@jupyter-widgets/controls",
            "_view_module_version": "1.5.0",
            "_view_name": "HBoxView",
            "box_style": "",
            "children": [
              "IPY_MODEL_2a512c594b5246d6b2640dd1d0c71465",
              "IPY_MODEL_41fe45a0eb364511a7946dc076ecb38f",
              "IPY_MODEL_ef245bcd596d4608bbc47c8acf857c79"
            ],
            "layout": "IPY_MODEL_060bf7da1ca64c648dd46a46e3ab1b74"
          }
        },
        "2a512c594b5246d6b2640dd1d0c71465": {
          "model_module": "@jupyter-widgets/controls",
          "model_name": "HTMLModel",
          "model_module_version": "1.5.0",
          "state": {
            "_dom_classes": [],
            "_model_module": "@jupyter-widgets/controls",
            "_model_module_version": "1.5.0",
            "_model_name": "HTMLModel",
            "_view_count": null,
            "_view_module": "@jupyter-widgets/controls",
            "_view_module_version": "1.5.0",
            "_view_name": "HTMLView",
            "description": "",
            "description_tooltip": null,
            "layout": "IPY_MODEL_dc32cd729de24c8c908fbc6b7f7462f7",
            "placeholder": "​",
            "style": "IPY_MODEL_7caac95a38284747962a165a11f7287e",
            "value": "tokenizer.json: "
          }
        },
        "41fe45a0eb364511a7946dc076ecb38f": {
          "model_module": "@jupyter-widgets/controls",
          "model_name": "FloatProgressModel",
          "model_module_version": "1.5.0",
          "state": {
            "_dom_classes": [],
            "_model_module": "@jupyter-widgets/controls",
            "_model_module_version": "1.5.0",
            "_model_name": "FloatProgressModel",
            "_view_count": null,
            "_view_module": "@jupyter-widgets/controls",
            "_view_module_version": "1.5.0",
            "_view_name": "ProgressView",
            "bar_style": "success",
            "description": "",
            "description_tooltip": null,
            "layout": "IPY_MODEL_d374bd3e37e64460892651f3742e81f3",
            "max": 1,
            "min": 0,
            "orientation": "horizontal",
            "style": "IPY_MODEL_9c3d5c0fb73444798f2a006fe0930f67",
            "value": 1
          }
        },
        "ef245bcd596d4608bbc47c8acf857c79": {
          "model_module": "@jupyter-widgets/controls",
          "model_name": "HTMLModel",
          "model_module_version": "1.5.0",
          "state": {
            "_dom_classes": [],
            "_model_module": "@jupyter-widgets/controls",
            "_model_module_version": "1.5.0",
            "_model_name": "HTMLModel",
            "_view_count": null,
            "_view_module": "@jupyter-widgets/controls",
            "_view_module_version": "1.5.0",
            "_view_name": "HTMLView",
            "description": "",
            "description_tooltip": null,
            "layout": "IPY_MODEL_7529aacdcb0049e98969a25350743394",
            "placeholder": "​",
            "style": "IPY_MODEL_38d0fa4175064218a5b1a2bc2c1827b6",
            "value": " 466k/? [00:00&lt;00:00, 8.20MB/s]"
          }
        },
        "060bf7da1ca64c648dd46a46e3ab1b74": {
          "model_module": "@jupyter-widgets/base",
          "model_name": "LayoutModel",
          "model_module_version": "1.2.0",
          "state": {
            "_model_module": "@jupyter-widgets/base",
            "_model_module_version": "1.2.0",
            "_model_name": "LayoutModel",
            "_view_count": null,
            "_view_module": "@jupyter-widgets/base",
            "_view_module_version": "1.2.0",
            "_view_name": "LayoutView",
            "align_content": null,
            "align_items": null,
            "align_self": null,
            "border": null,
            "bottom": null,
            "display": null,
            "flex": null,
            "flex_flow": null,
            "grid_area": null,
            "grid_auto_columns": null,
            "grid_auto_flow": null,
            "grid_auto_rows": null,
            "grid_column": null,
            "grid_gap": null,
            "grid_row": null,
            "grid_template_areas": null,
            "grid_template_columns": null,
            "grid_template_rows": null,
            "height": null,
            "justify_content": null,
            "justify_items": null,
            "left": null,
            "margin": null,
            "max_height": null,
            "max_width": null,
            "min_height": null,
            "min_width": null,
            "object_fit": null,
            "object_position": null,
            "order": null,
            "overflow": null,
            "overflow_x": null,
            "overflow_y": null,
            "padding": null,
            "right": null,
            "top": null,
            "visibility": null,
            "width": null
          }
        },
        "dc32cd729de24c8c908fbc6b7f7462f7": {
          "model_module": "@jupyter-widgets/base",
          "model_name": "LayoutModel",
          "model_module_version": "1.2.0",
          "state": {
            "_model_module": "@jupyter-widgets/base",
            "_model_module_version": "1.2.0",
            "_model_name": "LayoutModel",
            "_view_count": null,
            "_view_module": "@jupyter-widgets/base",
            "_view_module_version": "1.2.0",
            "_view_name": "LayoutView",
            "align_content": null,
            "align_items": null,
            "align_self": null,
            "border": null,
            "bottom": null,
            "display": null,
            "flex": null,
            "flex_flow": null,
            "grid_area": null,
            "grid_auto_columns": null,
            "grid_auto_flow": null,
            "grid_auto_rows": null,
            "grid_column": null,
            "grid_gap": null,
            "grid_row": null,
            "grid_template_areas": null,
            "grid_template_columns": null,
            "grid_template_rows": null,
            "height": null,
            "justify_content": null,
            "justify_items": null,
            "left": null,
            "margin": null,
            "max_height": null,
            "max_width": null,
            "min_height": null,
            "min_width": null,
            "object_fit": null,
            "object_position": null,
            "order": null,
            "overflow": null,
            "overflow_x": null,
            "overflow_y": null,
            "padding": null,
            "right": null,
            "top": null,
            "visibility": null,
            "width": null
          }
        },
        "7caac95a38284747962a165a11f7287e": {
          "model_module": "@jupyter-widgets/controls",
          "model_name": "DescriptionStyleModel",
          "model_module_version": "1.5.0",
          "state": {
            "_model_module": "@jupyter-widgets/controls",
            "_model_module_version": "1.5.0",
            "_model_name": "DescriptionStyleModel",
            "_view_count": null,
            "_view_module": "@jupyter-widgets/base",
            "_view_module_version": "1.2.0",
            "_view_name": "StyleView",
            "description_width": ""
          }
        },
        "d374bd3e37e64460892651f3742e81f3": {
          "model_module": "@jupyter-widgets/base",
          "model_name": "LayoutModel",
          "model_module_version": "1.2.0",
          "state": {
            "_model_module": "@jupyter-widgets/base",
            "_model_module_version": "1.2.0",
            "_model_name": "LayoutModel",
            "_view_count": null,
            "_view_module": "@jupyter-widgets/base",
            "_view_module_version": "1.2.0",
            "_view_name": "LayoutView",
            "align_content": null,
            "align_items": null,
            "align_self": null,
            "border": null,
            "bottom": null,
            "display": null,
            "flex": null,
            "flex_flow": null,
            "grid_area": null,
            "grid_auto_columns": null,
            "grid_auto_flow": null,
            "grid_auto_rows": null,
            "grid_column": null,
            "grid_gap": null,
            "grid_row": null,
            "grid_template_areas": null,
            "grid_template_columns": null,
            "grid_template_rows": null,
            "height": null,
            "justify_content": null,
            "justify_items": null,
            "left": null,
            "margin": null,
            "max_height": null,
            "max_width": null,
            "min_height": null,
            "min_width": null,
            "object_fit": null,
            "object_position": null,
            "order": null,
            "overflow": null,
            "overflow_x": null,
            "overflow_y": null,
            "padding": null,
            "right": null,
            "top": null,
            "visibility": null,
            "width": "20px"
          }
        },
        "9c3d5c0fb73444798f2a006fe0930f67": {
          "model_module": "@jupyter-widgets/controls",
          "model_name": "ProgressStyleModel",
          "model_module_version": "1.5.0",
          "state": {
            "_model_module": "@jupyter-widgets/controls",
            "_model_module_version": "1.5.0",
            "_model_name": "ProgressStyleModel",
            "_view_count": null,
            "_view_module": "@jupyter-widgets/base",
            "_view_module_version": "1.2.0",
            "_view_name": "StyleView",
            "bar_color": null,
            "description_width": ""
          }
        },
        "7529aacdcb0049e98969a25350743394": {
          "model_module": "@jupyter-widgets/base",
          "model_name": "LayoutModel",
          "model_module_version": "1.2.0",
          "state": {
            "_model_module": "@jupyter-widgets/base",
            "_model_module_version": "1.2.0",
            "_model_name": "LayoutModel",
            "_view_count": null,
            "_view_module": "@jupyter-widgets/base",
            "_view_module_version": "1.2.0",
            "_view_name": "LayoutView",
            "align_content": null,
            "align_items": null,
            "align_self": null,
            "border": null,
            "bottom": null,
            "display": null,
            "flex": null,
            "flex_flow": null,
            "grid_area": null,
            "grid_auto_columns": null,
            "grid_auto_flow": null,
            "grid_auto_rows": null,
            "grid_column": null,
            "grid_gap": null,
            "grid_row": null,
            "grid_template_areas": null,
            "grid_template_columns": null,
            "grid_template_rows": null,
            "height": null,
            "justify_content": null,
            "justify_items": null,
            "left": null,
            "margin": null,
            "max_height": null,
            "max_width": null,
            "min_height": null,
            "min_width": null,
            "object_fit": null,
            "object_position": null,
            "order": null,
            "overflow": null,
            "overflow_x": null,
            "overflow_y": null,
            "padding": null,
            "right": null,
            "top": null,
            "visibility": null,
            "width": null
          }
        },
        "38d0fa4175064218a5b1a2bc2c1827b6": {
          "model_module": "@jupyter-widgets/controls",
          "model_name": "DescriptionStyleModel",
          "model_module_version": "1.5.0",
          "state": {
            "_model_module": "@jupyter-widgets/controls",
            "_model_module_version": "1.5.0",
            "_model_name": "DescriptionStyleModel",
            "_view_count": null,
            "_view_module": "@jupyter-widgets/base",
            "_view_module_version": "1.2.0",
            "_view_name": "StyleView",
            "description_width": ""
          }
        },
        "5bbb94aa0e77412aaaa668f089135f2e": {
          "model_module": "@jupyter-widgets/controls",
          "model_name": "HBoxModel",
          "model_module_version": "1.5.0",
          "state": {
            "_dom_classes": [],
            "_model_module": "@jupyter-widgets/controls",
            "_model_module_version": "1.5.0",
            "_model_name": "HBoxModel",
            "_view_count": null,
            "_view_module": "@jupyter-widgets/controls",
            "_view_module_version": "1.5.0",
            "_view_name": "HBoxView",
            "box_style": "",
            "children": [
              "IPY_MODEL_5a4a77df8eba4b979ebfb83adf99656c",
              "IPY_MODEL_b93407b6bd1f4be39a8d0dd40de644dc",
              "IPY_MODEL_028514490a604e58be595561b0e888d4"
            ],
            "layout": "IPY_MODEL_f61e5b097e8f480f8646cbb62b11aae9"
          }
        },
        "5a4a77df8eba4b979ebfb83adf99656c": {
          "model_module": "@jupyter-widgets/controls",
          "model_name": "HTMLModel",
          "model_module_version": "1.5.0",
          "state": {
            "_dom_classes": [],
            "_model_module": "@jupyter-widgets/controls",
            "_model_module_version": "1.5.0",
            "_model_name": "HTMLModel",
            "_view_count": null,
            "_view_module": "@jupyter-widgets/controls",
            "_view_module_version": "1.5.0",
            "_view_name": "HTMLView",
            "description": "",
            "description_tooltip": null,
            "layout": "IPY_MODEL_a97ed88e68334572a839437d1b57f84e",
            "placeholder": "​",
            "style": "IPY_MODEL_4c1788fb7f10476abbf04a1549bdcd9d",
            "value": "special_tokens_map.json: 100%"
          }
        },
        "b93407b6bd1f4be39a8d0dd40de644dc": {
          "model_module": "@jupyter-widgets/controls",
          "model_name": "FloatProgressModel",
          "model_module_version": "1.5.0",
          "state": {
            "_dom_classes": [],
            "_model_module": "@jupyter-widgets/controls",
            "_model_module_version": "1.5.0",
            "_model_name": "FloatProgressModel",
            "_view_count": null,
            "_view_module": "@jupyter-widgets/controls",
            "_view_module_version": "1.5.0",
            "_view_name": "ProgressView",
            "bar_style": "success",
            "description": "",
            "description_tooltip": null,
            "layout": "IPY_MODEL_4a358584aff943a6ab12ace0223e1c17",
            "max": 112,
            "min": 0,
            "orientation": "horizontal",
            "style": "IPY_MODEL_61fa393cd97342a9ba5ce77b5cfdd064",
            "value": 112
          }
        },
        "028514490a604e58be595561b0e888d4": {
          "model_module": "@jupyter-widgets/controls",
          "model_name": "HTMLModel",
          "model_module_version": "1.5.0",
          "state": {
            "_dom_classes": [],
            "_model_module": "@jupyter-widgets/controls",
            "_model_module_version": "1.5.0",
            "_model_name": "HTMLModel",
            "_view_count": null,
            "_view_module": "@jupyter-widgets/controls",
            "_view_module_version": "1.5.0",
            "_view_name": "HTMLView",
            "description": "",
            "description_tooltip": null,
            "layout": "IPY_MODEL_ffdad9eff1b84dd9aba3369cf43ffef2",
            "placeholder": "​",
            "style": "IPY_MODEL_b9ac0a84c9c34351ba94c0d93412a211",
            "value": " 112/112 [00:00&lt;00:00, 9.52kB/s]"
          }
        },
        "f61e5b097e8f480f8646cbb62b11aae9": {
          "model_module": "@jupyter-widgets/base",
          "model_name": "LayoutModel",
          "model_module_version": "1.2.0",
          "state": {
            "_model_module": "@jupyter-widgets/base",
            "_model_module_version": "1.2.0",
            "_model_name": "LayoutModel",
            "_view_count": null,
            "_view_module": "@jupyter-widgets/base",
            "_view_module_version": "1.2.0",
            "_view_name": "LayoutView",
            "align_content": null,
            "align_items": null,
            "align_self": null,
            "border": null,
            "bottom": null,
            "display": null,
            "flex": null,
            "flex_flow": null,
            "grid_area": null,
            "grid_auto_columns": null,
            "grid_auto_flow": null,
            "grid_auto_rows": null,
            "grid_column": null,
            "grid_gap": null,
            "grid_row": null,
            "grid_template_areas": null,
            "grid_template_columns": null,
            "grid_template_rows": null,
            "height": null,
            "justify_content": null,
            "justify_items": null,
            "left": null,
            "margin": null,
            "max_height": null,
            "max_width": null,
            "min_height": null,
            "min_width": null,
            "object_fit": null,
            "object_position": null,
            "order": null,
            "overflow": null,
            "overflow_x": null,
            "overflow_y": null,
            "padding": null,
            "right": null,
            "top": null,
            "visibility": null,
            "width": null
          }
        },
        "a97ed88e68334572a839437d1b57f84e": {
          "model_module": "@jupyter-widgets/base",
          "model_name": "LayoutModel",
          "model_module_version": "1.2.0",
          "state": {
            "_model_module": "@jupyter-widgets/base",
            "_model_module_version": "1.2.0",
            "_model_name": "LayoutModel",
            "_view_count": null,
            "_view_module": "@jupyter-widgets/base",
            "_view_module_version": "1.2.0",
            "_view_name": "LayoutView",
            "align_content": null,
            "align_items": null,
            "align_self": null,
            "border": null,
            "bottom": null,
            "display": null,
            "flex": null,
            "flex_flow": null,
            "grid_area": null,
            "grid_auto_columns": null,
            "grid_auto_flow": null,
            "grid_auto_rows": null,
            "grid_column": null,
            "grid_gap": null,
            "grid_row": null,
            "grid_template_areas": null,
            "grid_template_columns": null,
            "grid_template_rows": null,
            "height": null,
            "justify_content": null,
            "justify_items": null,
            "left": null,
            "margin": null,
            "max_height": null,
            "max_width": null,
            "min_height": null,
            "min_width": null,
            "object_fit": null,
            "object_position": null,
            "order": null,
            "overflow": null,
            "overflow_x": null,
            "overflow_y": null,
            "padding": null,
            "right": null,
            "top": null,
            "visibility": null,
            "width": null
          }
        },
        "4c1788fb7f10476abbf04a1549bdcd9d": {
          "model_module": "@jupyter-widgets/controls",
          "model_name": "DescriptionStyleModel",
          "model_module_version": "1.5.0",
          "state": {
            "_model_module": "@jupyter-widgets/controls",
            "_model_module_version": "1.5.0",
            "_model_name": "DescriptionStyleModel",
            "_view_count": null,
            "_view_module": "@jupyter-widgets/base",
            "_view_module_version": "1.2.0",
            "_view_name": "StyleView",
            "description_width": ""
          }
        },
        "4a358584aff943a6ab12ace0223e1c17": {
          "model_module": "@jupyter-widgets/base",
          "model_name": "LayoutModel",
          "model_module_version": "1.2.0",
          "state": {
            "_model_module": "@jupyter-widgets/base",
            "_model_module_version": "1.2.0",
            "_model_name": "LayoutModel",
            "_view_count": null,
            "_view_module": "@jupyter-widgets/base",
            "_view_module_version": "1.2.0",
            "_view_name": "LayoutView",
            "align_content": null,
            "align_items": null,
            "align_self": null,
            "border": null,
            "bottom": null,
            "display": null,
            "flex": null,
            "flex_flow": null,
            "grid_area": null,
            "grid_auto_columns": null,
            "grid_auto_flow": null,
            "grid_auto_rows": null,
            "grid_column": null,
            "grid_gap": null,
            "grid_row": null,
            "grid_template_areas": null,
            "grid_template_columns": null,
            "grid_template_rows": null,
            "height": null,
            "justify_content": null,
            "justify_items": null,
            "left": null,
            "margin": null,
            "max_height": null,
            "max_width": null,
            "min_height": null,
            "min_width": null,
            "object_fit": null,
            "object_position": null,
            "order": null,
            "overflow": null,
            "overflow_x": null,
            "overflow_y": null,
            "padding": null,
            "right": null,
            "top": null,
            "visibility": null,
            "width": null
          }
        },
        "61fa393cd97342a9ba5ce77b5cfdd064": {
          "model_module": "@jupyter-widgets/controls",
          "model_name": "ProgressStyleModel",
          "model_module_version": "1.5.0",
          "state": {
            "_model_module": "@jupyter-widgets/controls",
            "_model_module_version": "1.5.0",
            "_model_name": "ProgressStyleModel",
            "_view_count": null,
            "_view_module": "@jupyter-widgets/base",
            "_view_module_version": "1.2.0",
            "_view_name": "StyleView",
            "bar_color": null,
            "description_width": ""
          }
        },
        "ffdad9eff1b84dd9aba3369cf43ffef2": {
          "model_module": "@jupyter-widgets/base",
          "model_name": "LayoutModel",
          "model_module_version": "1.2.0",
          "state": {
            "_model_module": "@jupyter-widgets/base",
            "_model_module_version": "1.2.0",
            "_model_name": "LayoutModel",
            "_view_count": null,
            "_view_module": "@jupyter-widgets/base",
            "_view_module_version": "1.2.0",
            "_view_name": "LayoutView",
            "align_content": null,
            "align_items": null,
            "align_self": null,
            "border": null,
            "bottom": null,
            "display": null,
            "flex": null,
            "flex_flow": null,
            "grid_area": null,
            "grid_auto_columns": null,
            "grid_auto_flow": null,
            "grid_auto_rows": null,
            "grid_column": null,
            "grid_gap": null,
            "grid_row": null,
            "grid_template_areas": null,
            "grid_template_columns": null,
            "grid_template_rows": null,
            "height": null,
            "justify_content": null,
            "justify_items": null,
            "left": null,
            "margin": null,
            "max_height": null,
            "max_width": null,
            "min_height": null,
            "min_width": null,
            "object_fit": null,
            "object_position": null,
            "order": null,
            "overflow": null,
            "overflow_x": null,
            "overflow_y": null,
            "padding": null,
            "right": null,
            "top": null,
            "visibility": null,
            "width": null
          }
        },
        "b9ac0a84c9c34351ba94c0d93412a211": {
          "model_module": "@jupyter-widgets/controls",
          "model_name": "DescriptionStyleModel",
          "model_module_version": "1.5.0",
          "state": {
            "_model_module": "@jupyter-widgets/controls",
            "_model_module_version": "1.5.0",
            "_model_name": "DescriptionStyleModel",
            "_view_count": null,
            "_view_module": "@jupyter-widgets/base",
            "_view_module_version": "1.2.0",
            "_view_name": "StyleView",
            "description_width": ""
          }
        },
        "99a22e1305d24da8a38d1ba8527adb42": {
          "model_module": "@jupyter-widgets/controls",
          "model_name": "HBoxModel",
          "model_module_version": "1.5.0",
          "state": {
            "_dom_classes": [],
            "_model_module": "@jupyter-widgets/controls",
            "_model_module_version": "1.5.0",
            "_model_name": "HBoxModel",
            "_view_count": null,
            "_view_module": "@jupyter-widgets/controls",
            "_view_module_version": "1.5.0",
            "_view_name": "HBoxView",
            "box_style": "",
            "children": [
              "IPY_MODEL_8cc983e6487d4eafa53768cc5348c79a",
              "IPY_MODEL_53ca46da4f3f4c6abc1146f83f3eaa2c",
              "IPY_MODEL_5bcad860e151406da1a8c6ad906e6725"
            ],
            "layout": "IPY_MODEL_ba41012987144d9588df56a43d0a5211"
          }
        },
        "8cc983e6487d4eafa53768cc5348c79a": {
          "model_module": "@jupyter-widgets/controls",
          "model_name": "HTMLModel",
          "model_module_version": "1.5.0",
          "state": {
            "_dom_classes": [],
            "_model_module": "@jupyter-widgets/controls",
            "_model_module_version": "1.5.0",
            "_model_name": "HTMLModel",
            "_view_count": null,
            "_view_module": "@jupyter-widgets/controls",
            "_view_module_version": "1.5.0",
            "_view_name": "HTMLView",
            "description": "",
            "description_tooltip": null,
            "layout": "IPY_MODEL_c5e2121207a24bfcb8c1d83a97b025eb",
            "placeholder": "​",
            "style": "IPY_MODEL_92150a2587784978ace789c5b73c2fad",
            "value": "config.json: 100%"
          }
        },
        "53ca46da4f3f4c6abc1146f83f3eaa2c": {
          "model_module": "@jupyter-widgets/controls",
          "model_name": "FloatProgressModel",
          "model_module_version": "1.5.0",
          "state": {
            "_dom_classes": [],
            "_model_module": "@jupyter-widgets/controls",
            "_model_module_version": "1.5.0",
            "_model_name": "FloatProgressModel",
            "_view_count": null,
            "_view_module": "@jupyter-widgets/controls",
            "_view_module_version": "1.5.0",
            "_view_name": "ProgressView",
            "bar_style": "success",
            "description": "",
            "description_tooltip": null,
            "layout": "IPY_MODEL_1728f4e893b44164b530a2e9d4bf9855",
            "max": 190,
            "min": 0,
            "orientation": "horizontal",
            "style": "IPY_MODEL_263e7dde9563424b9971a487efcef3bb",
            "value": 190
          }
        },
        "5bcad860e151406da1a8c6ad906e6725": {
          "model_module": "@jupyter-widgets/controls",
          "model_name": "HTMLModel",
          "model_module_version": "1.5.0",
          "state": {
            "_dom_classes": [],
            "_model_module": "@jupyter-widgets/controls",
            "_model_module_version": "1.5.0",
            "_model_name": "HTMLModel",
            "_view_count": null,
            "_view_module": "@jupyter-widgets/controls",
            "_view_module_version": "1.5.0",
            "_view_name": "HTMLView",
            "description": "",
            "description_tooltip": null,
            "layout": "IPY_MODEL_1d503f0a503441ea852bd31b318366ad",
            "placeholder": "​",
            "style": "IPY_MODEL_146c98e1fde44eedba7a27dd3a30f313",
            "value": " 190/190 [00:00&lt;00:00, 19.4kB/s]"
          }
        },
        "ba41012987144d9588df56a43d0a5211": {
          "model_module": "@jupyter-widgets/base",
          "model_name": "LayoutModel",
          "model_module_version": "1.2.0",
          "state": {
            "_model_module": "@jupyter-widgets/base",
            "_model_module_version": "1.2.0",
            "_model_name": "LayoutModel",
            "_view_count": null,
            "_view_module": "@jupyter-widgets/base",
            "_view_module_version": "1.2.0",
            "_view_name": "LayoutView",
            "align_content": null,
            "align_items": null,
            "align_self": null,
            "border": null,
            "bottom": null,
            "display": null,
            "flex": null,
            "flex_flow": null,
            "grid_area": null,
            "grid_auto_columns": null,
            "grid_auto_flow": null,
            "grid_auto_rows": null,
            "grid_column": null,
            "grid_gap": null,
            "grid_row": null,
            "grid_template_areas": null,
            "grid_template_columns": null,
            "grid_template_rows": null,
            "height": null,
            "justify_content": null,
            "justify_items": null,
            "left": null,
            "margin": null,
            "max_height": null,
            "max_width": null,
            "min_height": null,
            "min_width": null,
            "object_fit": null,
            "object_position": null,
            "order": null,
            "overflow": null,
            "overflow_x": null,
            "overflow_y": null,
            "padding": null,
            "right": null,
            "top": null,
            "visibility": null,
            "width": null
          }
        },
        "c5e2121207a24bfcb8c1d83a97b025eb": {
          "model_module": "@jupyter-widgets/base",
          "model_name": "LayoutModel",
          "model_module_version": "1.2.0",
          "state": {
            "_model_module": "@jupyter-widgets/base",
            "_model_module_version": "1.2.0",
            "_model_name": "LayoutModel",
            "_view_count": null,
            "_view_module": "@jupyter-widgets/base",
            "_view_module_version": "1.2.0",
            "_view_name": "LayoutView",
            "align_content": null,
            "align_items": null,
            "align_self": null,
            "border": null,
            "bottom": null,
            "display": null,
            "flex": null,
            "flex_flow": null,
            "grid_area": null,
            "grid_auto_columns": null,
            "grid_auto_flow": null,
            "grid_auto_rows": null,
            "grid_column": null,
            "grid_gap": null,
            "grid_row": null,
            "grid_template_areas": null,
            "grid_template_columns": null,
            "grid_template_rows": null,
            "height": null,
            "justify_content": null,
            "justify_items": null,
            "left": null,
            "margin": null,
            "max_height": null,
            "max_width": null,
            "min_height": null,
            "min_width": null,
            "object_fit": null,
            "object_position": null,
            "order": null,
            "overflow": null,
            "overflow_x": null,
            "overflow_y": null,
            "padding": null,
            "right": null,
            "top": null,
            "visibility": null,
            "width": null
          }
        },
        "92150a2587784978ace789c5b73c2fad": {
          "model_module": "@jupyter-widgets/controls",
          "model_name": "DescriptionStyleModel",
          "model_module_version": "1.5.0",
          "state": {
            "_model_module": "@jupyter-widgets/controls",
            "_model_module_version": "1.5.0",
            "_model_name": "DescriptionStyleModel",
            "_view_count": null,
            "_view_module": "@jupyter-widgets/base",
            "_view_module_version": "1.2.0",
            "_view_name": "StyleView",
            "description_width": ""
          }
        },
        "1728f4e893b44164b530a2e9d4bf9855": {
          "model_module": "@jupyter-widgets/base",
          "model_name": "LayoutModel",
          "model_module_version": "1.2.0",
          "state": {
            "_model_module": "@jupyter-widgets/base",
            "_model_module_version": "1.2.0",
            "_model_name": "LayoutModel",
            "_view_count": null,
            "_view_module": "@jupyter-widgets/base",
            "_view_module_version": "1.2.0",
            "_view_name": "LayoutView",
            "align_content": null,
            "align_items": null,
            "align_self": null,
            "border": null,
            "bottom": null,
            "display": null,
            "flex": null,
            "flex_flow": null,
            "grid_area": null,
            "grid_auto_columns": null,
            "grid_auto_flow": null,
            "grid_auto_rows": null,
            "grid_column": null,
            "grid_gap": null,
            "grid_row": null,
            "grid_template_areas": null,
            "grid_template_columns": null,
            "grid_template_rows": null,
            "height": null,
            "justify_content": null,
            "justify_items": null,
            "left": null,
            "margin": null,
            "max_height": null,
            "max_width": null,
            "min_height": null,
            "min_width": null,
            "object_fit": null,
            "object_position": null,
            "order": null,
            "overflow": null,
            "overflow_x": null,
            "overflow_y": null,
            "padding": null,
            "right": null,
            "top": null,
            "visibility": null,
            "width": null
          }
        },
        "263e7dde9563424b9971a487efcef3bb": {
          "model_module": "@jupyter-widgets/controls",
          "model_name": "ProgressStyleModel",
          "model_module_version": "1.5.0",
          "state": {
            "_model_module": "@jupyter-widgets/controls",
            "_model_module_version": "1.5.0",
            "_model_name": "ProgressStyleModel",
            "_view_count": null,
            "_view_module": "@jupyter-widgets/base",
            "_view_module_version": "1.2.0",
            "_view_name": "StyleView",
            "bar_color": null,
            "description_width": ""
          }
        },
        "1d503f0a503441ea852bd31b318366ad": {
          "model_module": "@jupyter-widgets/base",
          "model_name": "LayoutModel",
          "model_module_version": "1.2.0",
          "state": {
            "_model_module": "@jupyter-widgets/base",
            "_model_module_version": "1.2.0",
            "_model_name": "LayoutModel",
            "_view_count": null,
            "_view_module": "@jupyter-widgets/base",
            "_view_module_version": "1.2.0",
            "_view_name": "LayoutView",
            "align_content": null,
            "align_items": null,
            "align_self": null,
            "border": null,
            "bottom": null,
            "display": null,
            "flex": null,
            "flex_flow": null,
            "grid_area": null,
            "grid_auto_columns": null,
            "grid_auto_flow": null,
            "grid_auto_rows": null,
            "grid_column": null,
            "grid_gap": null,
            "grid_row": null,
            "grid_template_areas": null,
            "grid_template_columns": null,
            "grid_template_rows": null,
            "height": null,
            "justify_content": null,
            "justify_items": null,
            "left": null,
            "margin": null,
            "max_height": null,
            "max_width": null,
            "min_height": null,
            "min_width": null,
            "object_fit": null,
            "object_position": null,
            "order": null,
            "overflow": null,
            "overflow_x": null,
            "overflow_y": null,
            "padding": null,
            "right": null,
            "top": null,
            "visibility": null,
            "width": null
          }
        },
        "146c98e1fde44eedba7a27dd3a30f313": {
          "model_module": "@jupyter-widgets/controls",
          "model_name": "DescriptionStyleModel",
          "model_module_version": "1.5.0",
          "state": {
            "_model_module": "@jupyter-widgets/controls",
            "_model_module_version": "1.5.0",
            "_model_name": "DescriptionStyleModel",
            "_view_count": null,
            "_view_module": "@jupyter-widgets/base",
            "_view_module_version": "1.2.0",
            "_view_name": "StyleView",
            "description_width": ""
          }
        }
      }
    }
  },
  "cells": [
    {
      "cell_type": "code",
      "execution_count": null,
      "metadata": {
        "colab": {
          "base_uri": "https://localhost:8080/"
        },
        "id": "ikDsNRhKOn9J",
        "outputId": "1cb15f76-a275-4857-b5a2-478374fe0729"
      },
      "outputs": [
        {
          "output_type": "stream",
          "name": "stdout",
          "text": [
            "\u001b[2K   \u001b[90m━━━━━━━━━━━━━━━━━━━━━━━━━━━━━━━━━━━━━━━━\u001b[0m \u001b[32m363.4/363.4 MB\u001b[0m \u001b[31m3.8 MB/s\u001b[0m eta \u001b[36m0:00:00\u001b[0m\n",
            "\u001b[2K   \u001b[90m━━━━━━━━━━━━━━━━━━━━━━━━━━━━━━━━━━━━━━━━\u001b[0m \u001b[32m13.8/13.8 MB\u001b[0m \u001b[31m126.9 MB/s\u001b[0m eta \u001b[36m0:00:00\u001b[0m\n",
            "\u001b[2K   \u001b[90m━━━━━━━━━━━━━━━━━━━━━━━━━━━━━━━━━━━━━━━━\u001b[0m \u001b[32m24.6/24.6 MB\u001b[0m \u001b[31m98.8 MB/s\u001b[0m eta \u001b[36m0:00:00\u001b[0m\n",
            "\u001b[2K   \u001b[90m━━━━━━━━━━━━━━━━━━━━━━━━━━━━━━━━━━━━━━━━\u001b[0m \u001b[32m883.7/883.7 kB\u001b[0m \u001b[31m61.6 MB/s\u001b[0m eta \u001b[36m0:00:00\u001b[0m\n",
            "\u001b[2K   \u001b[90m━━━━━━━━━━━━━━━━━━━━━━━━━━━━━━━━━━━━━━━━\u001b[0m \u001b[32m664.8/664.8 MB\u001b[0m \u001b[31m2.0 MB/s\u001b[0m eta \u001b[36m0:00:00\u001b[0m\n",
            "\u001b[2K   \u001b[90m━━━━━━━━━━━━━━━━━━━━━━━━━━━━━━━━━━━━━━━━\u001b[0m \u001b[32m211.5/211.5 MB\u001b[0m \u001b[31m5.3 MB/s\u001b[0m eta \u001b[36m0:00:00\u001b[0m\n",
            "\u001b[2K   \u001b[90m━━━━━━━━━━━━━━━━━━━━━━━━━━━━━━━━━━━━━━━━\u001b[0m \u001b[32m56.3/56.3 MB\u001b[0m \u001b[31m12.7 MB/s\u001b[0m eta \u001b[36m0:00:00\u001b[0m\n",
            "\u001b[2K   \u001b[90m━━━━━━━━━━━━━━━━━━━━━━━━━━━━━━━━━━━━━━━━\u001b[0m \u001b[32m127.9/127.9 MB\u001b[0m \u001b[31m7.8 MB/s\u001b[0m eta \u001b[36m0:00:00\u001b[0m\n",
            "\u001b[2K   \u001b[90m━━━━━━━━━━━━━━━━━━━━━━━━━━━━━━━━━━━━━━━━\u001b[0m \u001b[32m207.5/207.5 MB\u001b[0m \u001b[31m5.4 MB/s\u001b[0m eta \u001b[36m0:00:00\u001b[0m\n",
            "\u001b[2K   \u001b[90m━━━━━━━━━━━━━━━━━━━━━━━━━━━━━━━━━━━━━━━━\u001b[0m \u001b[32m188.7/188.7 MB\u001b[0m \u001b[31m5.8 MB/s\u001b[0m eta \u001b[36m0:00:00\u001b[0m\n",
            "\u001b[2K   \u001b[90m━━━━━━━━━━━━━━━━━━━━━━━━━━━━━━━━━━━━━━━━\u001b[0m \u001b[32m21.1/21.1 MB\u001b[0m \u001b[31m106.4 MB/s\u001b[0m eta \u001b[36m0:00:00\u001b[0m\n",
            "\u001b[?25h"
          ]
        }
      ],
      "source": [
        "!pip install -q sentence-transformers\n"
      ]
    },
    {
      "cell_type": "markdown",
      "source": [
        "##This is a sentence-transformers model: It maps sentences & paragraphs to a 384 dimensional dense vector space and can be used for tasks like clustering or semantic search."
      ],
      "metadata": {
        "id": "czqJ4pgBSCtm"
      }
    },
    {
      "cell_type": "code",
      "source": [
        "from sentence_transformers import SentenceTransformer\n",
        "\n",
        "model = SentenceTransformer(\"sentence-transformers/all-MiniLM-L6-v2\")\n",
        "print(\"Model yüklendi. Boyut:\", model.get_sentence_embedding_dimension())\n"
      ],
      "metadata": {
        "colab": {
          "base_uri": "https://localhost:8080/",
          "height": 387,
          "referenced_widgets": [
            "23b4bae7580347c5884e7f153c3f311b",
            "789a511ae8164c1ca2cb80eb1785a47e",
            "e2838a41430b49beb33a2da907c3060b",
            "4525833aa4424667b480f3451549c1cc",
            "4d8fba1665c84306b1228f89d9fa9caf",
            "2e5cd0050c854b22a73a469995f7f36c",
            "472343650ac7455fae14fabd7621e90a",
            "f047468780b747859ab776ca9e29fab7",
            "e7a27163c7634f418514cad688998755",
            "aeddad8b83474f989ccc0026bfae3fa6",
            "81920f0a6169475ca904329b96305027",
            "078d9bec63794cb0879c71fd4eb112b7",
            "f68fac3bdad042efa4499a40f8dd6be8",
            "e01cc5cc4e984108af22021fc8a1f2b9",
            "1ea3baeb3de3485f8ca3110f5c92a166",
            "c3cbe10f373f47ffacfcbb81e86e0c61",
            "4d942dc49e394090b6597a554c609fe4",
            "746f5fe2543044f29295cd5dff240657",
            "ad2f2d4963394b4dafeb46fb3fd3c45d",
            "5216ae167ee445d2853889736818e323",
            "dd1ef7d24e1d44c9b108962c5d74fb05",
            "7bef3e3622e04ace8239ede36c198e16",
            "41210c2e5b914aa7bee0f905ea891346",
            "06604edad7464065bd4cd01a4298cfac",
            "f6f15f6cdc7d435fba1b1c8053efea44",
            "4c3c9c24e8034147bd487bb1d2f89161",
            "03eac766c69c4cfba6a9354212eec239",
            "74e56c65ccdd4f94ba833d4b8e4a86eb",
            "16be4fac9f19442ab36d57107253805b",
            "c65e486b73c947e0ba0240658d2578ab",
            "363e9411bdc94aacbe279ceb4005ac9e",
            "1bd9aae2da3e44f49fe7574b1d485cb9",
            "e99d3cf76a0d445ea0fbe766cb0ed43d",
            "d1d7e25608774109a1363a16e605ef3d",
            "2cb7b03888de4c9ca91aa289b3c31a1c",
            "746c9d6a6ea74915a359fac4f702c6d9",
            "c682f77cf1014969bba5b3c196bcc1da",
            "714d606af2cd442a8a939e9768556c25",
            "ebc1495583f745eda97e8b18566356ef",
            "4f8acb84f6ee4efea3a8a1ab8ae69857",
            "80ff07a23ad645c394fac6cc2aaa33f2",
            "fa2f5bbd747b499b96eea3c8421a1031",
            "84b71d2a4bdd40e5a2947819abf6bef1",
            "7d54b8e383674dbdb2883842a617111d",
            "21de4e2b6d194aba8d32df855882a13e",
            "12186f48a3314868929d31884f20e129",
            "a3bdd72852f944a2bd304a218660370d",
            "a7147f0dccdb4a22b7e26957a7461a8a",
            "bf831f3859914260957a4e85124384ec",
            "6f3e8c373cdf4de6ae16408333960fdc",
            "a9bbb9dcacaf4615bea64860db3e9393",
            "fa7c47a88f5d47af9e7f5acaca3baa2a",
            "de00f83386f1400381056ca9a5082d48",
            "16c70d1da3394116b165fca14641399e",
            "5b8efca0bfa94274a2b1b023b61a1e69",
            "badf2a93f8eb491b92d54047c045b87b",
            "51f7abbc98c44bd2b1f9a471b16a0ad2",
            "1f67f17c07de439f8cc3c30e5cf67d36",
            "c1b4af1f03e7478684e7e70670150ca8",
            "5b467f77a3d9409ab040ec74c6ff0d8f",
            "f5300e09ad574f38b868d93d6372e30c",
            "2209e85d2bb24ca1b6f15500346da86a",
            "aba1b7c24380495d90095fba23f41263",
            "c5dfdae5feb9426fb2d56a78dbf1a738",
            "fbef6d0b478049b5b344e6514a7853ec",
            "f0894a1cf99c4deaa45ac68393fe1365",
            "5c74f69bd819402396998aa00f644666",
            "730c0374dbcf4e36a815b78f4606b5b8",
            "a047ed78ab264c85a41b1f20525a0063",
            "9ac4822406e54d7199ec20ec20e812d9",
            "4d61a530c1374cf0be1c3b74ae3b62e8",
            "7d6b97112cff466cabeeda5e794f7557",
            "d792cf8cb8ab471785a3532f647bc00e",
            "109cc55ddcb446bf96d465953a9b4894",
            "62912091f0a942daaf20ad8723c85a71",
            "34ecf000dccf4a8b89acf1ab7d1cdece",
            "1f45372d9c6f4804b118a0552a529351",
            "09b4b60c27054a8a86936d9135a769f1",
            "c668120df77045119b635f406f1d8abc",
            "e37daf50d8b748a6bdb411a8976ce196",
            "a691d484b9fe4dbdae019fc86cf77d84",
            "e0795e81d2fe4a79be88048260cb3c7f",
            "ff313363731f458086d350273e521994",
            "b9a8de1cdcd44d42ad0e6e25d2f57907",
            "e92a12729bad4df390bbb7cc04583a89",
            "f57ab9635c504df5935fa2131ab524fc",
            "931f2340fe8e4ee9809eaf912f1e66bd",
            "77e84168a04d4affacf49a4b80c38dbc",
            "c413f4e07c6e490ab53f3a7109c432a6",
            "2a512c594b5246d6b2640dd1d0c71465",
            "41fe45a0eb364511a7946dc076ecb38f",
            "ef245bcd596d4608bbc47c8acf857c79",
            "060bf7da1ca64c648dd46a46e3ab1b74",
            "dc32cd729de24c8c908fbc6b7f7462f7",
            "7caac95a38284747962a165a11f7287e",
            "d374bd3e37e64460892651f3742e81f3",
            "9c3d5c0fb73444798f2a006fe0930f67",
            "7529aacdcb0049e98969a25350743394",
            "38d0fa4175064218a5b1a2bc2c1827b6",
            "5bbb94aa0e77412aaaa668f089135f2e",
            "5a4a77df8eba4b979ebfb83adf99656c",
            "b93407b6bd1f4be39a8d0dd40de644dc",
            "028514490a604e58be595561b0e888d4",
            "f61e5b097e8f480f8646cbb62b11aae9",
            "a97ed88e68334572a839437d1b57f84e",
            "4c1788fb7f10476abbf04a1549bdcd9d",
            "4a358584aff943a6ab12ace0223e1c17",
            "61fa393cd97342a9ba5ce77b5cfdd064",
            "ffdad9eff1b84dd9aba3369cf43ffef2",
            "b9ac0a84c9c34351ba94c0d93412a211",
            "99a22e1305d24da8a38d1ba8527adb42",
            "8cc983e6487d4eafa53768cc5348c79a",
            "53ca46da4f3f4c6abc1146f83f3eaa2c",
            "5bcad860e151406da1a8c6ad906e6725",
            "ba41012987144d9588df56a43d0a5211",
            "c5e2121207a24bfcb8c1d83a97b025eb",
            "92150a2587784978ace789c5b73c2fad",
            "1728f4e893b44164b530a2e9d4bf9855",
            "263e7dde9563424b9971a487efcef3bb",
            "1d503f0a503441ea852bd31b318366ad",
            "146c98e1fde44eedba7a27dd3a30f313"
          ]
        },
        "id": "b_2MyCnPOviw",
        "outputId": "7078524f-3b36-4fde-c9fc-c222f741a1dd"
      },
      "execution_count": null,
      "outputs": [
        {
          "output_type": "display_data",
          "data": {
            "text/plain": [
              "modules.json:   0%|          | 0.00/349 [00:00<?, ?B/s]"
            ],
            "application/vnd.jupyter.widget-view+json": {
              "version_major": 2,
              "version_minor": 0,
              "model_id": "23b4bae7580347c5884e7f153c3f311b"
            }
          },
          "metadata": {}
        },
        {
          "output_type": "display_data",
          "data": {
            "text/plain": [
              "config_sentence_transformers.json:   0%|          | 0.00/116 [00:00<?, ?B/s]"
            ],
            "application/vnd.jupyter.widget-view+json": {
              "version_major": 2,
              "version_minor": 0,
              "model_id": "078d9bec63794cb0879c71fd4eb112b7"
            }
          },
          "metadata": {}
        },
        {
          "output_type": "display_data",
          "data": {
            "text/plain": [
              "README.md: 0.00B [00:00, ?B/s]"
            ],
            "application/vnd.jupyter.widget-view+json": {
              "version_major": 2,
              "version_minor": 0,
              "model_id": "41210c2e5b914aa7bee0f905ea891346"
            }
          },
          "metadata": {}
        },
        {
          "output_type": "display_data",
          "data": {
            "text/plain": [
              "sentence_bert_config.json:   0%|          | 0.00/53.0 [00:00<?, ?B/s]"
            ],
            "application/vnd.jupyter.widget-view+json": {
              "version_major": 2,
              "version_minor": 0,
              "model_id": "d1d7e25608774109a1363a16e605ef3d"
            }
          },
          "metadata": {}
        },
        {
          "output_type": "display_data",
          "data": {
            "text/plain": [
              "config.json:   0%|          | 0.00/612 [00:00<?, ?B/s]"
            ],
            "application/vnd.jupyter.widget-view+json": {
              "version_major": 2,
              "version_minor": 0,
              "model_id": "21de4e2b6d194aba8d32df855882a13e"
            }
          },
          "metadata": {}
        },
        {
          "output_type": "display_data",
          "data": {
            "text/plain": [
              "model.safetensors:   0%|          | 0.00/90.9M [00:00<?, ?B/s]"
            ],
            "application/vnd.jupyter.widget-view+json": {
              "version_major": 2,
              "version_minor": 0,
              "model_id": "badf2a93f8eb491b92d54047c045b87b"
            }
          },
          "metadata": {}
        },
        {
          "output_type": "display_data",
          "data": {
            "text/plain": [
              "tokenizer_config.json:   0%|          | 0.00/350 [00:00<?, ?B/s]"
            ],
            "application/vnd.jupyter.widget-view+json": {
              "version_major": 2,
              "version_minor": 0,
              "model_id": "5c74f69bd819402396998aa00f644666"
            }
          },
          "metadata": {}
        },
        {
          "output_type": "display_data",
          "data": {
            "text/plain": [
              "vocab.txt: 0.00B [00:00, ?B/s]"
            ],
            "application/vnd.jupyter.widget-view+json": {
              "version_major": 2,
              "version_minor": 0,
              "model_id": "09b4b60c27054a8a86936d9135a769f1"
            }
          },
          "metadata": {}
        },
        {
          "output_type": "display_data",
          "data": {
            "text/plain": [
              "tokenizer.json: 0.00B [00:00, ?B/s]"
            ],
            "application/vnd.jupyter.widget-view+json": {
              "version_major": 2,
              "version_minor": 0,
              "model_id": "c413f4e07c6e490ab53f3a7109c432a6"
            }
          },
          "metadata": {}
        },
        {
          "output_type": "display_data",
          "data": {
            "text/plain": [
              "special_tokens_map.json:   0%|          | 0.00/112 [00:00<?, ?B/s]"
            ],
            "application/vnd.jupyter.widget-view+json": {
              "version_major": 2,
              "version_minor": 0,
              "model_id": "5bbb94aa0e77412aaaa668f089135f2e"
            }
          },
          "metadata": {}
        },
        {
          "output_type": "display_data",
          "data": {
            "text/plain": [
              "config.json:   0%|          | 0.00/190 [00:00<?, ?B/s]"
            ],
            "application/vnd.jupyter.widget-view+json": {
              "version_major": 2,
              "version_minor": 0,
              "model_id": "99a22e1305d24da8a38d1ba8527adb42"
            }
          },
          "metadata": {}
        },
        {
          "output_type": "stream",
          "name": "stdout",
          "text": [
            "Model yüklendi. Boyut: 384\n"
          ]
        }
      ]
    },
    {
      "cell_type": "code",
      "source": [
        "sentences = [\"Bugün hava çok güzel.\", \"Hava bugün oldukça iyi.\"]\n",
        "embeddings = model.encode(sentences, convert_to_numpy=True)\n",
        "\n",
        "print(\"Embedding shape:\", embeddings.shape)  # (2, 384)\n",
        "print(\"İlk 5 değer (s1):\", embeddings[0][:5])\n"
      ],
      "metadata": {
        "colab": {
          "base_uri": "https://localhost:8080/"
        },
        "id": "VSHieERLPefO",
        "outputId": "ea2be72b-d3ca-44a5-97c9-67edd85fa8b8"
      },
      "execution_count": null,
      "outputs": [
        {
          "output_type": "stream",
          "name": "stdout",
          "text": [
            "Embedding shape: (2, 384)\n",
            "İlk 5 değer (s1): [-0.09439237  0.11303866 -0.0647672  -0.00452919 -0.09316283]\n"
          ]
        }
      ]
    },
    {
      "cell_type": "code",
      "source": [
        "from sentence_transformers import util\n",
        "\n",
        "cos_sim = util.cos_sim(embeddings[0], embeddings[1]).item()\n",
        "print(f\"Cosine Similarity: {cos_sim:.4f}\")\n"
      ],
      "metadata": {
        "colab": {
          "base_uri": "https://localhost:8080/"
        },
        "id": "h_XszsccPt4k",
        "outputId": "c1961f24-fc5d-44f7-a9c5-d07062236d10"
      },
      "execution_count": null,
      "outputs": [
        {
          "output_type": "stream",
          "name": "stdout",
          "text": [
            "Cosine Similarity: 0.6488\n"
          ]
        }
      ]
    },
    {
      "cell_type": "code",
      "source": [
        "sentences = [\"Today weather is great.\", \"The weather is pretty good\"]\n",
        "embeddings = model.encode(sentences, convert_to_numpy=True)\n",
        "\n",
        "print(\"Embedding shape:\", embeddings.shape)  # (2, 384)\n",
        "print(\"İlk 5 değer (s1):\", embeddings[0][:5])\n"
      ],
      "metadata": {
        "colab": {
          "base_uri": "https://localhost:8080/"
        },
        "id": "HHEJfVMBPxfg",
        "outputId": "3dd6489b-74cc-4a44-fb9b-b894f3258b1a"
      },
      "execution_count": null,
      "outputs": [
        {
          "output_type": "stream",
          "name": "stdout",
          "text": [
            "Embedding shape: (2, 384)\n",
            "İlk 5 değer (s1): [-0.00834342  0.08960226  0.14012608  0.06527974 -0.0029595 ]\n"
          ]
        }
      ]
    },
    {
      "cell_type": "code",
      "source": [
        "from sentence_transformers import util\n",
        "\n",
        "cos_sim = util.cos_sim(embeddings[0], embeddings[1]).item()\n",
        "print(f\"Cosine Similarity: {cos_sim:.4f}\")\n"
      ],
      "metadata": {
        "colab": {
          "base_uri": "https://localhost:8080/"
        },
        "id": "As-2cDicP8Kx",
        "outputId": "1e0b289f-4b3a-4db6-c108-2e7188d7e31c"
      },
      "execution_count": null,
      "outputs": [
        {
          "output_type": "stream",
          "name": "stdout",
          "text": [
            "Cosine Similarity: 0.7444\n"
          ]
        }
      ]
    },
    {
      "cell_type": "code",
      "source": [
        "sentences = [\"The weather is great.\", \"The weather is pretty good\"]\n",
        "embeddings = model.encode(sentences, convert_to_numpy=True)\n",
        "\n",
        "print(\"Embedding shape:\", embeddings.shape)  # (2, 384)\n",
        "print(\"İlk 5 değer (s1):\", embeddings[0][:5])\n"
      ],
      "metadata": {
        "colab": {
          "base_uri": "https://localhost:8080/"
        },
        "id": "TvtzZPCIQbSl",
        "outputId": "ac5cf1e9-9637-4e97-db9a-48e6cd2cb2e4"
      },
      "execution_count": null,
      "outputs": [
        {
          "output_type": "stream",
          "name": "stdout",
          "text": [
            "Embedding shape: (2, 384)\n",
            "İlk 5 değer (s1): [-0.0008551   0.04571549  0.14242792  0.08791658 -0.01456564]\n"
          ]
        }
      ]
    },
    {
      "cell_type": "code",
      "source": [
        "from sentence_transformers import util\n",
        "\n",
        "cos_sim = util.cos_sim(embeddings[0], embeddings[1]).item()\n",
        "print(f\"Cosine Similarity: {cos_sim:.4f}\")\n"
      ],
      "metadata": {
        "colab": {
          "base_uri": "https://localhost:8080/"
        },
        "id": "YBclw0M1QbU4",
        "outputId": "c6c6e968-abf9-4826-a2bd-25721798639b"
      },
      "execution_count": null,
      "outputs": [
        {
          "output_type": "stream",
          "name": "stdout",
          "text": [
            "Cosine Similarity: 0.8589\n"
          ]
        }
      ]
    },
    {
      "cell_type": "code",
      "source": [
        "\n",
        "s1 = \"The weather is beautiful today.\"\n",
        "s2 = \"Today the weather is really nice.\"\n",
        "sentences = [s1,s2]\n",
        "embeddings = model.encode(sentences, convert_to_numpy=True)\n",
        "\n",
        "print(\"Embedding shape:\", embeddings.shape)  # (2, 384)\n",
        "print(\"İlk 5 değer (s1):\", embeddings[0][:5])\n"
      ],
      "metadata": {
        "colab": {
          "base_uri": "https://localhost:8080/"
        },
        "id": "52hEkVXnQAst",
        "outputId": "cab8cae7-9ecb-4807-cd87-eb433b7f3bce"
      },
      "execution_count": null,
      "outputs": [
        {
          "output_type": "stream",
          "name": "stdout",
          "text": [
            "Embedding shape: (2, 384)\n",
            "İlk 5 değer (s1): [0.01307232 0.11939918 0.16268437 0.07397013 0.02783015]\n"
          ]
        }
      ]
    },
    {
      "cell_type": "code",
      "source": [
        "from sentence_transformers import util\n",
        "\n",
        "cos_sim = util.cos_sim(embeddings[0], embeddings[1]).item()\n",
        "print(f\"Cosine Similarity: {cos_sim:.4f}\")\n"
      ],
      "metadata": {
        "colab": {
          "base_uri": "https://localhost:8080/"
        },
        "id": "9nK0JiJTP9TA",
        "outputId": "c3d2b88b-f628-4b7a-83a9-7458bc870f50"
      },
      "execution_count": null,
      "outputs": [
        {
          "output_type": "stream",
          "name": "stdout",
          "text": [
            "Cosine Similarity: 0.8100\n"
          ]
        }
      ]
    },
    {
      "cell_type": "markdown",
      "source": [
        "##This is a sentence-transformers model: It maps sentences & paragraphs to a 384 dimensional dense vector space and can be used for tasks like clustering or semantic search."
      ],
      "metadata": {
        "id": "xsyl69dBRlaR"
      }
    },
    {
      "cell_type": "code",
      "source": [
        "model_multi = SentenceTransformer(\"sentence-transformers/paraphrase-multilingual-MiniLM-L12-v2\")\n"
      ],
      "metadata": {
        "id": "faAP1U0uQlT-"
      },
      "execution_count": null,
      "outputs": []
    },
    {
      "cell_type": "code",
      "source": [
        "sentences = [\"Bugün hava çok güzel.\", \"Hava bugün oldukça iyi.\"]\n",
        "embeddings = model_multi.encode(sentences, convert_to_numpy=True)\n",
        "\n",
        "print(\"Embedding shape:\", embeddings.shape)  # (2, 384)\n",
        "print(\"İlk 5 değer (s1):\", embeddings[0][:5])\n"
      ],
      "metadata": {
        "colab": {
          "base_uri": "https://localhost:8080/"
        },
        "id": "AN7VqqpYQnuO",
        "outputId": "e762a85d-e4a3-47b2-9833-3bcd5c6a13c8"
      },
      "execution_count": null,
      "outputs": [
        {
          "output_type": "stream",
          "name": "stdout",
          "text": [
            "Embedding shape: (2, 384)\n",
            "İlk 5 değer (s1): [0.24837847 0.38283977 0.02925042 0.14930603 0.19278662]\n"
          ]
        }
      ]
    },
    {
      "cell_type": "code",
      "source": [
        "from sentence_transformers import util\n",
        "\n",
        "cos_sim = util.cos_sim(embeddings[0], embeddings[1]).item()\n",
        "print(f\"Cosine Similarity: {cos_sim:.4f}\")\n"
      ],
      "metadata": {
        "colab": {
          "base_uri": "https://localhost:8080/"
        },
        "id": "W5PjSM6rQ0JV",
        "outputId": "923e3392-4655-4b57-b9c2-ed792f0e6ede"
      },
      "execution_count": null,
      "outputs": [
        {
          "output_type": "stream",
          "name": "stdout",
          "text": [
            "Cosine Similarity: 0.9248\n"
          ]
        }
      ]
    },
    {
      "cell_type": "code",
      "source": [
        "sentences = [\"Today weather is great.\", \"The weather is pretty good\"]\n",
        "embeddings = model_multi.encode(sentences, convert_to_numpy=True)\n",
        "\n",
        "print(\"Embedding shape:\", embeddings.shape)  # (2, 384)\n",
        "print(\"İlk 5 değer (s1):\", embeddings[0][:5])\n"
      ],
      "metadata": {
        "colab": {
          "base_uri": "https://localhost:8080/"
        },
        "id": "kqfhX2goQ7Gf",
        "outputId": "04ec21af-4a18-4a23-9626-cf5f45f659b3"
      },
      "execution_count": null,
      "outputs": [
        {
          "output_type": "stream",
          "name": "stdout",
          "text": [
            "Embedding shape: (2, 384)\n",
            "İlk 5 değer (s1): [0.14495261 0.36200204 0.01412645 0.16926311 0.20435631]\n"
          ]
        }
      ]
    },
    {
      "cell_type": "code",
      "source": [
        "from sentence_transformers import util\n",
        "\n",
        "cos_sim = util.cos_sim(embeddings[0], embeddings[1]).item()\n",
        "print(f\"Cosine Similarity: {cos_sim:.4f}\")\n"
      ],
      "metadata": {
        "colab": {
          "base_uri": "https://localhost:8080/"
        },
        "id": "CCdYXpXTQ7Iw",
        "outputId": "c96d2744-88df-4202-beb2-2145d49c2357"
      },
      "execution_count": null,
      "outputs": [
        {
          "output_type": "stream",
          "name": "stdout",
          "text": [
            "Cosine Similarity: 0.7868\n"
          ]
        }
      ]
    },
    {
      "cell_type": "code",
      "source": [
        "\n",
        "s1 = \"The weather is beautiful today.\"\n",
        "s2 = \"Today the weather is really nice.\"\n",
        "sentences = [s1,s2]\n",
        "embeddings = model_multi.encode(sentences, convert_to_numpy=True)\n",
        "\n",
        "print(\"Embedding shape:\", embeddings.shape)  # (2, 384)\n",
        "print(\"İlk 5 değer (s1):\", embeddings[0][:5])\n"
      ],
      "metadata": {
        "colab": {
          "base_uri": "https://localhost:8080/"
        },
        "id": "O4OXXXT_RBPE",
        "outputId": "4d623fd7-cbd7-4b1d-825d-c559e2cf1db9"
      },
      "execution_count": null,
      "outputs": [
        {
          "output_type": "stream",
          "name": "stdout",
          "text": [
            "Embedding shape: (2, 384)\n",
            "İlk 5 değer (s1): [0.3268533  0.4877435  0.09142464 0.30773026 0.43956217]\n"
          ]
        }
      ]
    },
    {
      "cell_type": "code",
      "source": [
        "from sentence_transformers import util\n",
        "\n",
        "cos_sim = util.cos_sim(embeddings[0], embeddings[1]).item()\n",
        "print(f\"Cosine Similarity: {cos_sim:.4f}\")\n"
      ],
      "metadata": {
        "colab": {
          "base_uri": "https://localhost:8080/"
        },
        "id": "LTpRVQ6yRGCg",
        "outputId": "c8719d3d-b437-42ac-af33-50fead59cdc5"
      },
      "execution_count": null,
      "outputs": [
        {
          "output_type": "stream",
          "name": "stdout",
          "text": [
            "Cosine Similarity: 0.7610\n"
          ]
        }
      ]
    },
    {
      "cell_type": "code",
      "source": [
        "sentences = [\"The weather is great.\", \"The weather is pretty good\"]\n",
        "embeddings = model_multi.encode(sentences, convert_to_numpy=True)\n",
        "\n",
        "print(\"Embedding shape:\", embeddings.shape)  # (2, 384)\n",
        "print(\"İlk 5 değer (s1):\", embeddings[0][:5])\n"
      ],
      "metadata": {
        "colab": {
          "base_uri": "https://localhost:8080/"
        },
        "id": "PABrsHDQSSVA",
        "outputId": "c0e14f3d-1a18-43d6-e215-2037e10399ea"
      },
      "execution_count": null,
      "outputs": [
        {
          "output_type": "stream",
          "name": "stdout",
          "text": [
            "Embedding shape: (2, 384)\n",
            "İlk 5 değer (s1): [0.2780778  0.38778493 0.03942371 0.17701301 0.24138355]\n"
          ]
        }
      ]
    },
    {
      "cell_type": "code",
      "source": [
        "from sentence_transformers import util\n",
        "\n",
        "cos_sim = util.cos_sim(embeddings[0], embeddings[1]).item()\n",
        "print(f\"Cosine Similarity: {cos_sim:.4f}\")\n"
      ],
      "metadata": {
        "colab": {
          "base_uri": "https://localhost:8080/"
        },
        "id": "LJkgjo7nSdGv",
        "outputId": "be41e823-b12b-4ecd-8aba-3c59b2edacbf"
      },
      "execution_count": null,
      "outputs": [
        {
          "output_type": "stream",
          "name": "stdout",
          "text": [
            "Cosine Similarity: 0.8011\n"
          ]
        }
      ]
    },
    {
      "cell_type": "code",
      "source": [
        "sentences = [\"Today weather is great.\", \"The weather is pretty good\"]\n",
        "embeddings = model_multi.encode(sentences, convert_to_numpy=True)\n",
        "\n",
        "print(\"Embedding shape:\", embeddings.shape)  # (2, 384)\n",
        "print(\"İlk 5 değer (s1):\", embeddings[0][:5])\n"
      ],
      "metadata": {
        "colab": {
          "base_uri": "https://localhost:8080/"
        },
        "id": "xLv_OLdtSeii",
        "outputId": "a037342b-b837-4368-c369-2fde891280a3"
      },
      "execution_count": null,
      "outputs": [
        {
          "output_type": "stream",
          "name": "stdout",
          "text": [
            "Embedding shape: (2, 384)\n",
            "İlk 5 değer (s1): [0.14495261 0.36200204 0.01412645 0.16926311 0.20435631]\n"
          ]
        }
      ]
    },
    {
      "cell_type": "code",
      "source": [
        "from sentence_transformers import util\n",
        "\n",
        "cos_sim = util.cos_sim(embeddings[0], embeddings[1]).item()\n",
        "print(f\"Cosine Similarity: {cos_sim:.4f}\")\n"
      ],
      "metadata": {
        "colab": {
          "base_uri": "https://localhost:8080/"
        },
        "id": "ViDT6HxxSpqc",
        "outputId": "6228d97c-5a44-4105-8cec-4a3a244da4c2"
      },
      "execution_count": null,
      "outputs": [
        {
          "output_type": "stream",
          "name": "stdout",
          "text": [
            "Cosine Similarity: 0.7868\n"
          ]
        }
      ]
    },
    {
      "cell_type": "code",
      "source": [
        "sentences = [\"fare kediyi yakaladı\", \"kedi fareyi yakaladı\"]\n",
        "embeddings = model_multi.encode(sentences, convert_to_numpy=True)\n",
        "\n",
        "print(\"Embedding shape:\", embeddings.shape)  # (2, 384)\n",
        "print(\"İlk 5 değer (s1):\", embeddings[0][:5])\n"
      ],
      "metadata": {
        "colab": {
          "base_uri": "https://localhost:8080/"
        },
        "id": "J4XzPyeeSqwf",
        "outputId": "4a78e89a-11ac-49d2-e8ad-38e66a71cdc4"
      },
      "execution_count": null,
      "outputs": [
        {
          "output_type": "stream",
          "name": "stdout",
          "text": [
            "Embedding shape: (2, 384)\n",
            "İlk 5 değer (s1): [-0.01106353 -0.03517003  0.2140559   0.22932772  0.00692982]\n"
          ]
        }
      ]
    },
    {
      "cell_type": "code",
      "source": [
        "from sentence_transformers import util\n",
        "\n",
        "cos_sim = util.cos_sim(embeddings[0], embeddings[1]).item()\n",
        "print(f\"Cosine Similarity: {cos_sim:.4f}\")\n"
      ],
      "metadata": {
        "colab": {
          "base_uri": "https://localhost:8080/"
        },
        "id": "mBzqul0uS46h",
        "outputId": "4d6bd36e-b24a-487a-f5a2-102892e29df6"
      },
      "execution_count": null,
      "outputs": [
        {
          "output_type": "stream",
          "name": "stdout",
          "text": [
            "Cosine Similarity: 0.9884\n"
          ]
        }
      ]
    },
    {
      "cell_type": "code",
      "source": [
        "import numpy as np\n",
        "\n",
        "def euclidean(a, b):\n",
        "    return float(np.linalg.norm(a - b))\n",
        "\n",
        "s1 = \"Bugün hava çok güzel.\"\n",
        "s2 = \"Hava bugün oldukça iyi.\"\n",
        "s3 = \"Dün arkadaşlarımla futbol oynadım.\"\n",
        "\n",
        "emb = model.encode([s1, s2, s3], convert_to_numpy=True)\n",
        "\n",
        "print(\"Cos(s1,s2) =\", util.cos_sim(emb[0], emb[1]).item())\n",
        "print(\"Cos(s1,s3) =\", util.cos_sim(emb[0], emb[2]).item())\n",
        "\n",
        "print(\"Dot(s1,s2) =\", np.dot(emb[0], emb[1]))\n",
        "print(\"Dot(s1,s3) =\", np.dot(emb[0], emb[2]))\n",
        "\n",
        "print(\"L2(s1,s2) =\", euclidean(emb[0], emb[1]))\n",
        "print(\"L2(s1,s3) =\", euclidean(emb[0], emb[2]))\n"
      ],
      "metadata": {
        "colab": {
          "base_uri": "https://localhost:8080/"
        },
        "id": "rLSDH4MeS6TI",
        "outputId": "aa66dd45-6302-44e2-eef2-887b6a6e0a20"
      },
      "execution_count": null,
      "outputs": [
        {
          "output_type": "stream",
          "name": "stdout",
          "text": [
            "Cos(s1,s2) = 0.6487725377082825\n",
            "Cos(s1,s3) = 0.362262487411499\n",
            "Dot(s1,s2) = 0.6487724\n",
            "Dot(s1,s3) = 0.36226243\n",
            "L2(s1,s2) = 0.8381258845329285\n",
            "L2(s1,s3) = 1.1293692588806152\n"
          ]
        }
      ]
    },
    {
      "cell_type": "code",
      "source": [
        "import numpy as np\n",
        "\n",
        "def euclidean(a, b):\n",
        "    return float(np.linalg.norm(a - b))\n",
        "\n",
        "s1 = \"Bugün hava çok güzel.\"\n",
        "s2 = \"Hava bugün oldukça iyi.\"\n",
        "s3 = \"Dün arkadaşlarımla futbol oynadım.\"\n",
        "\n",
        "emb = model_multi.encode([s1, s2, s3], convert_to_numpy=True)\n",
        "\n",
        "print(\"Cos(s1,s2) =\", util.cos_sim(emb[0], emb[1]).item())\n",
        "print(\"Cos(s1,s3) =\", util.cos_sim(emb[0], emb[2]).item())\n",
        "\n",
        "print(\"Dot(s1,s2) =\", np.dot(emb[0], emb[1]))\n",
        "print(\"Dot(s1,s3) =\", np.dot(emb[0], emb[2]))\n",
        "\n",
        "print(\"L2(s1,s2) =\", euclidean(emb[0], emb[1]))\n",
        "print(\"L2(s1,s3) =\", euclidean(emb[0], emb[2]))\n"
      ],
      "metadata": {
        "colab": {
          "base_uri": "https://localhost:8080/"
        },
        "id": "zFHrjLVLS_IC",
        "outputId": "f18dd9d7-046b-4711-a228-57136d276a56"
      },
      "execution_count": null,
      "outputs": [
        {
          "output_type": "stream",
          "name": "stdout",
          "text": [
            "Cos(s1,s2) = 0.9247732758522034\n",
            "Cos(s1,s3) = 0.26976630091667175\n",
            "Dot(s1,s2) = 18.386711\n",
            "Dot(s1,s3) = 5.9397545\n",
            "L2(s1,s2) = 1.739159107208252\n",
            "L2(s1,s3) = 5.710300445556641\n"
          ]
        }
      ]
    },
    {
      "cell_type": "code",
      "source": [
        "en_s1 = \"She enjoys reading books in the evening.\"\n",
        "en_s2 = \"In the evenings, she loves to read books.\"\n",
        "en_s3 = \"He is reading a novel right now.\"\n",
        "en_s4 = \"The city council will build a new bridge next year.\"\n",
        "\n",
        "tr_s1 = \"Akşamları kitap okumaktan hoşlanır.\"\n",
        "tr_s2 = \"O, akşam saatlerinde kitap okumayı sever.\"\n",
        "tr_s3 = \"Şu anda bir roman okuyor.\"\n",
        "tr_s4 = \"Belediye seneye yeni bir köprü inşa edecek.\"\n",
        "\n",
        "\n",
        "# --- English ---\n",
        "emb_en = model.encode([en_s1, en_s2, en_s3, en_s4], convert_to_numpy=True)\n",
        "emb_en_multi = model_multi.encode([en_s1, en_s2, en_s3, en_s4], convert_to_numpy=True)\n",
        "\n",
        "print(\"EN model cos(s1,s2):\", util.cos_sim(emb_en[0], emb_en[1]).item())  # High\n",
        "print(\"EN model cos(s1,s3):\", util.cos_sim(emb_en[0], emb_en[2]).item())  # Medium\n",
        "print(\"EN model cos(s1,s4):\", util.cos_sim(emb_en[0], emb_en[3]).item())  # Low\n",
        "\n",
        "print(\"EN model_multi cos(s1,s2):\", util.cos_sim(emb_en_multi[0], emb_en_multi[1]).item())\n",
        "print(\"EN model_multi cos(s1,s3):\", util.cos_sim(emb_en_multi[0], emb_en_multi[2]).item())\n",
        "print(\"EN model_multi cos(s1,s4):\", util.cos_sim(emb_en_multi[0], emb_en_multi[3]).item())\n",
        "\n",
        "# --- Turkish ---\n",
        "emb_tr = model.encode([tr_s1, tr_s2, tr_s3, tr_s4], convert_to_numpy=True)\n",
        "emb_tr_multi = model_multi.encode([tr_s1, tr_s2, tr_s3, tr_s4], convert_to_numpy=True)\n",
        "\n",
        "print(\"TR model cos(s1,s2):\", util.cos_sim(emb_tr[0], emb_tr[1]).item())  # High\n",
        "print(\"TR model cos(s1,s3):\", util.cos_sim(emb_tr[0], emb_tr[2]).item())  # Medium\n",
        "print(\"TR model cos(s1,s4):\", util.cos_sim(emb_tr[0], emb_tr[3]).item())  # Low\n",
        "\n",
        "print(\"TR model_multi cos(s1,s2):\", util.cos_sim(emb_tr_multi[0], emb_tr_multi[1]).item())\n",
        "print(\"TR model_multi cos(s1,s3):\", util.cos_sim(emb_tr_multi[0], emb_tr_multi[2]).item())\n",
        "print(\"TR model_multi cos(s1,s4):\", util.cos_sim(emb_tr_multi[0], emb_tr_multi[3]).item())"
      ],
      "metadata": {
        "colab": {
          "base_uri": "https://localhost:8080/"
        },
        "id": "YmVkQ4iuTFdI",
        "outputId": "c9c58e47-ef82-43c6-e56c-74bdc48a541a"
      },
      "execution_count": null,
      "outputs": [
        {
          "output_type": "stream",
          "name": "stdout",
          "text": [
            "EN model cos(s1,s2): 0.8575435280799866\n",
            "EN model cos(s1,s3): 0.3460409641265869\n",
            "EN model cos(s1,s4): -0.05852822959423065\n",
            "EN model_multi cos(s1,s2): 0.9645286798477173\n",
            "EN model_multi cos(s1,s3): 0.48605775833129883\n",
            "EN model_multi cos(s1,s4): -0.07269953936338425\n",
            "TR model cos(s1,s2): 0.8691637516021729\n",
            "TR model cos(s1,s3): 0.4230281710624695\n",
            "TR model cos(s1,s4): 0.5952876806259155\n",
            "TR model_multi cos(s1,s2): 0.9623535871505737\n",
            "TR model_multi cos(s1,s3): 0.6295585036277771\n",
            "TR model_multi cos(s1,s4): -0.14675192534923553\n"
          ]
        }
      ]
    },
    {
      "cell_type": "code",
      "source": [
        "# ==== Colab Tek Blok: Çok Senaryolu Karşılaştırma (EN + TR) ====\n",
        "\n",
        "def cos(a, b):\n",
        "    return float(util.cos_sim(a, b).item())\n",
        "\n",
        "def emb(m, texts):\n",
        "    return m.encode(texts, convert_to_numpy=True)\n",
        "\n",
        "def report_case(tag, pairs, emb1, emb2):\n",
        "    \"\"\"\n",
        "    pairs: list of (label, s1, s2)\n",
        "    emb1/emb2: dict {text -> vec}\n",
        "    \"\"\"\n",
        "    print(f\"\\n=== {tag} ===\")\n",
        "    print(f\"{'PAIR':24s} | {'model':>8s} | {'model_multi':>12s}\")\n",
        "    print(\"-\"*24 + \"+----------+--------------\")\n",
        "    for label, s1, s2 in pairs:\n",
        "        c1 = cos(emb1[s1], emb1[s2])\n",
        "        c2 = cos(emb2[s1], emb2[s2])\n",
        "        print(f\"{label:24s} | {c1:8.4f} | {c2:12.4f}\")\n",
        "\n",
        "def build_cache(m, texts):\n",
        "    ve = emb(m, texts)\n",
        "    return {t: ve[i] for i, t in enumerate(texts)}\n",
        "\n",
        "# ---------- ENGLISH SCENARIOS ----------\n",
        "en_paraphrase = [\n",
        "    (\"Paraphrase (similar)\",\n",
        "     \"She enjoys reading books in the evening.\",\n",
        "     \"In the evenings, she loves to read books.\"),\n",
        "    (\"Topic-similar (medium)\",\n",
        "     \"She enjoys reading books in the evening.\",\n",
        "     \"He is reading a novel right now.\"),\n",
        "    (\"Unrelated (low)\",\n",
        "     \"She enjoys reading books in the evening.\",\n",
        "     \"The city council approved a new bridge project.\"),\n",
        "]\n",
        "\n",
        "en_qa = [\n",
        "    (\"QA paraphrase (similar)\",\n",
        "     \"Where is the nearest subway station?\",\n",
        "     \"What is the closest metro stop around here?\"),\n",
        "    (\"QA topic-similar (medium)\",\n",
        "     \"Where is the nearest subway station?\",\n",
        "     \"I bought a ticket for the train yesterday.\"),\n",
        "    (\"QA unrelated (low)\",\n",
        "     \"Where is the nearest subway station?\",\n",
        "     \"The server responded with a 404 error.\"),\n",
        "]\n",
        "\n",
        "en_tweet = [\n",
        "    (\"Tweet paraphrase (similar)\",\n",
        "     \"New update is live. Faster, smaller, better.\",\n",
        "     \"Update just dropped: smaller size, faster speed, better UX.\"),\n",
        "    (\"Tweet topic-similar (medium)\",\n",
        "     \"New update is live. Faster, smaller, better.\",\n",
        "     \"We plan to ship the next release next month.\"),\n",
        "    (\"Tweet unrelated (low)\",\n",
        "     \"New update is live. Faster, smaller, better.\",\n",
        "     \"I planted tomatoes in my garden today.\"),\n",
        "]\n",
        "\n",
        "en_technical = [\n",
        "    (\"Technical paraphrase (similar)\",\n",
        "     \"Cosine similarity measures the angle between vectors.\",\n",
        "     \"Cosine similarity evaluates how aligned two vectors are.\"),\n",
        "    (\"Technical topic-similar (medium)\",\n",
        "     \"Cosine similarity measures the angle between vectors.\",\n",
        "     \"Euclidean distance measures straight-line distance.\"),\n",
        "    (\"Technical unrelated (low)\",\n",
        "     \"Cosine similarity measures the angle between vectors.\",\n",
        "     \"Neural style transfer applies artistic patterns to images.\"),\n",
        "]\n",
        "\n",
        "en_instruction_negation = [\n",
        "    (\"Instruction paraphrase (similar)\",\n",
        "     \"Do not shut down the server during deployment.\",\n",
        "     \"Avoid turning the server off while deploying.\"),\n",
        "    (\"Negation flip (low)\",  # anlam ters: düşük olması beklenir\n",
        "     \"Do not shut down the server during deployment.\",\n",
        "     \"Please shut down the server during deployment.\"),\n",
        "    (\"Unrelated (low)\",\n",
        "     \"Do not shut down the server during deployment.\",\n",
        "     \"The museum opens at 10 AM on Sundays.\"),\n",
        "]\n",
        "\n",
        "# ---------- TURKISH SCENARIOS ----------\n",
        "tr_paraphrase = [\n",
        "    (\"Parafraz (benzer)\",\n",
        "     \"Akşamları kitap okumaktan hoşlanır.\",\n",
        "     \"O, akşam saatlerinde kitap okumayı sever.\"),\n",
        "    (\"Konu-benzer (orta)\",\n",
        "     \"Akşamları kitap okumaktan hoşlanır.\",\n",
        "     \"Şu anda bir roman okuyor.\"),\n",
        "    (\"Alakasız (düşük)\",\n",
        "     \"Akşamları kitap okumaktan hoşlanır.\",\n",
        "     \"Belediye yeni bir köprü inşa edecek.\"),\n",
        "]\n",
        "\n",
        "tr_qa = [\n",
        "    (\"Soru parafraz (benzer)\",\n",
        "     \"En yakın metro durağı nerede?\",\n",
        "     \"Buraya en yakın metro istasyonu hangisi?\"),\n",
        "    (\"Konu-benzer (orta)\",\n",
        "     \"En yakın metro durağı nerede?\",\n",
        "     \"Dün tren bileti satın aldım.\"),\n",
        "    (\"Alakasız (düşük)\",\n",
        "     \"En yakın metro durağı nerede?\",\n",
        "     \"Sunucu 404 hatası döndürdü.\"),\n",
        "]\n",
        "\n",
        "tr_tweet = [\n",
        "    (\"Tweet parafraz (benzer)\",\n",
        "     \"Yeni güncelleme yayında: daha hızlı ve hafif.\",\n",
        "     \"Güncelleme çıktı: daha hafif boyut, daha hızlı hız, daha iyi deneyim.\"),\n",
        "    (\"Konu-benzer (orta)\",\n",
        "     \"Yeni güncelleme yayında: daha hızlı ve hafif.\",\n",
        "     \"Bir sonraki sürümü gelecek ay yayınlamayı planlıyoruz.\"),\n",
        "    (\"Alakasız (düşük)\",\n",
        "     \"Yeni güncelleme yayında: daha hızlı ve hafif.\",\n",
        "     \"Bugün bahçeme domates ektim.\"),\n",
        "]\n",
        "\n",
        "tr_technical = [\n",
        "    (\"Teknik parafraz (benzer)\",\n",
        "     \"Kosinüs benzerliği vektörler arasındaki açıyı ölçer.\",\n",
        "     \"Kosinüs benzerliği iki vektörün ne kadar hizalı olduğunu değerlendirir.\"),\n",
        "    (\"Teknik konu-benzer (orta)\",\n",
        "     \"Kosinüs benzerliği vektörler arasındaki açıyı ölçer.\",\n",
        "     \"Öklid uzaklığı iki nokta arasındaki doğrusal mesafedir.\"),\n",
        "    (\"Alakasız (düşük)\",\n",
        "     \"Kosinüs benzerliği vektörler arasındaki açıyı ölçer.\",\n",
        "     \"Sinir tarz aktarımı görüntülere sanatsal desenler uygular.\"),\n",
        "]\n",
        "\n",
        "tr_instruction_negation = [\n",
        "    (\"Yönerge parafraz (benzer)\",\n",
        "     \"Dağıtım sırasında sunucuyu kapatma.\",\n",
        "     \"Deploy esnasında sunucuyu kapatmamaya dikkat et.\"),\n",
        "    (\"Negation flip (düşük)\",\n",
        "     \"Dağıtım sırasında sunucuyu kapatma.\",\n",
        "     \"Deploy esnasında lütfen sunucuyu kapat.\"),\n",
        "    (\"Alakasız (düşük)\",\n",
        "     \"Dağıtım sırasında sunucuyu kapatma.\",\n",
        "     \"Müze pazar günleri saat 10’da açılıyor.\"),\n",
        "]\n",
        "\n",
        "# Tüm metinleri topla (tek kerede embed için cache hazırlayalım)\n",
        "def flatten_texts(*scenario_lists):\n",
        "    texts = []\n",
        "    for pairs in scenario_lists:\n",
        "        for _, s1, s2 in pairs:\n",
        "            texts += [s1, s2]\n",
        "    return sorted(list(set(texts)))\n",
        "\n",
        "en_texts = flatten_texts(en_paraphrase, en_qa, en_tweet, en_technical, en_instruction_negation)\n",
        "tr_texts = flatten_texts(tr_paraphrase, tr_qa, tr_tweet, tr_technical, tr_instruction_negation)\n",
        "\n",
        "# Önden tüm metinler için embedding önbelleği (iki ayrı model için)\n",
        "en_cache_model       = build_cache(model,       en_texts)\n",
        "en_cache_model_multi = build_cache(model_multi, en_texts)\n",
        "tr_cache_model       = build_cache(model,       tr_texts)\n",
        "tr_cache_model_multi = build_cache(model_multi, tr_texts)\n",
        "\n",
        "# Raporla\n",
        "print(\"\\n=== ENGLISH ===\")\n",
        "report_case(\"Paraphrase\", en_paraphrase, en_cache_model, en_cache_model_multi)\n",
        "report_case(\"Q&A\", en_qa, en_cache_model, en_cache_model_multi)\n",
        "report_case(\"Tweet\", en_tweet, en_cache_model, en_cache_model_multi)\n",
        "report_case(\"Technical\", en_technical, en_cache_model, en_cache_model_multi)\n",
        "report_case(\"Instruction/Negation\", en_instruction_negation, en_cache_model, en_cache_model_multi)\n",
        "\n",
        "print(\"\\n=== TÜRKÇE ===\")\n",
        "report_case(\"Parafraz\", tr_paraphrase, tr_cache_model, tr_cache_model_multi)\n",
        "report_case(\"Soru-Cevap\", tr_qa, tr_cache_model, tr_cache_model_multi)\n",
        "report_case(\"Tweet\", tr_tweet, tr_cache_model, tr_cache_model_multi)\n",
        "report_case(\"Teknik\", tr_technical, tr_cache_model, tr_cache_model_multi)\n",
        "report_case(\"Yönerge/Negation\", tr_instruction_negation, tr_cache_model, tr_cache_model_multi)\n",
        "\n",
        "print(\"\\nBitti. Beklenen desen: 'benzer' > 'konu-benzer' > 'alakasız';\")\n",
        "print(\"İngilizce için genelde model (MiniLM) daha yüksek; Türkçe için model_multi daha yüksek çıkmalıdır.\")\n"
      ],
      "metadata": {
        "colab": {
          "base_uri": "https://localhost:8080/"
        },
        "id": "iYXP24JtUtgU",
        "outputId": "dfa5155a-f3d7-4ce6-dc54-a19af19559ec"
      },
      "execution_count": null,
      "outputs": [
        {
          "output_type": "stream",
          "name": "stdout",
          "text": [
            "\n",
            "=== ENGLISH ===\n",
            "\n",
            "=== Paraphrase ===\n",
            "PAIR                     |    model |  model_multi\n",
            "------------------------+----------+--------------\n",
            "Paraphrase (similar)     |   0.8575 |       0.9645\n",
            "Topic-similar (medium)   |   0.3460 |       0.4861\n",
            "Unrelated (low)          |  -0.0494 |      -0.0606\n",
            "\n",
            "=== Q&A ===\n",
            "PAIR                     |    model |  model_multi\n",
            "------------------------+----------+--------------\n",
            "QA paraphrase (similar)  |   0.6950 |       0.8060\n",
            "QA topic-similar (medium) |   0.1929 |       0.3289\n",
            "QA unrelated (low)       |   0.0131 |       0.0477\n",
            "\n",
            "=== Tweet ===\n",
            "PAIR                     |    model |  model_multi\n",
            "------------------------+----------+--------------\n",
            "Tweet paraphrase (similar) |   0.7378 |       0.7032\n",
            "Tweet topic-similar (medium) |   0.2527 |       0.4154\n",
            "Tweet unrelated (low)    |   0.0994 |       0.1064\n",
            "\n",
            "=== Technical ===\n",
            "PAIR                     |    model |  model_multi\n",
            "------------------------+----------+--------------\n",
            "Technical paraphrase (similar) |   0.9153 |       0.9192\n",
            "Technical topic-similar (medium) |   0.4912 |       0.2164\n",
            "Technical unrelated (low) |   0.1055 |       0.3378\n",
            "\n",
            "=== Instruction/Negation ===\n",
            "PAIR                     |    model |  model_multi\n",
            "------------------------+----------+--------------\n",
            "Instruction paraphrase (similar) |   0.8935 |       0.8473\n",
            "Negation flip (low)      |   0.8970 |       0.6259\n",
            "Unrelated (low)          |   0.0104 |       0.0352\n",
            "\n",
            "=== TÜRKÇE ===\n",
            "\n",
            "=== Parafraz ===\n",
            "PAIR                     |    model |  model_multi\n",
            "------------------------+----------+--------------\n",
            "Parafraz (benzer)        |   0.8692 |       0.9624\n",
            "Konu-benzer (orta)       |   0.4230 |       0.6296\n",
            "Alakasız (düşük)         |   0.5732 |      -0.1525\n",
            "\n",
            "=== Soru-Cevap ===\n",
            "PAIR                     |    model |  model_multi\n",
            "------------------------+----------+--------------\n",
            "Soru parafraz (benzer)   |   0.8007 |       0.9498\n",
            "Konu-benzer (orta)       |   0.6617 |       0.3397\n",
            "Alakasız (düşük)         |   0.6186 |      -0.0029\n",
            "\n",
            "=== Tweet ===\n",
            "PAIR                     |    model |  model_multi\n",
            "------------------------+----------+--------------\n",
            "Tweet parafraz (benzer)  |   0.8758 |       0.8422\n",
            "Konu-benzer (orta)       |   0.6548 |       0.4055\n",
            "Alakasız (düşük)         |   0.3067 |       0.0814\n",
            "\n",
            "=== Teknik ===\n",
            "PAIR                     |    model |  model_multi\n",
            "------------------------+----------+--------------\n",
            "Teknik parafraz (benzer) |   0.8675 |       0.8150\n",
            "Teknik konu-benzer (orta) |   0.6943 |       0.4098\n",
            "Alakasız (düşük)         |   0.6479 |       0.2586\n",
            "\n",
            "=== Yönerge/Negation ===\n",
            "PAIR                     |    model |  model_multi\n",
            "------------------------+----------+--------------\n",
            "Yönerge parafraz (benzer) |   0.7189 |       0.8038\n",
            "Negation flip (düşük)    |   0.7384 |       0.6774\n",
            "Alakasız (düşük)         |   0.7167 |       0.0725\n",
            "\n",
            "Bitti. Beklenen desen: 'benzer' > 'konu-benzer' > 'alakasız';\n",
            "İngilizce için genelde model (MiniLM) daha yüksek; Türkçe için model_multi daha yüksek çıkmalıdır.\n"
          ]
        }
      ]
    },
    {
      "cell_type": "code",
      "source": [
        "sentences = [\"Today weather is great.\", \"bugun hava çok güzel.\"]\n",
        "embeddings = model_multi.encode(sentences, convert_to_numpy=True)\n",
        "\n",
        "print(\"Embedding shape:\", embeddings.shape)  # (2, 384)\n",
        "print(\"İlk 5 değer (s1):\", embeddings[0][:5])\n"
      ],
      "metadata": {
        "colab": {
          "base_uri": "https://localhost:8080/"
        },
        "id": "iXl_kszVWDUk",
        "outputId": "d92c79e4-7863-4c8c-c2e6-5b3621be48ff"
      },
      "execution_count": null,
      "outputs": [
        {
          "output_type": "stream",
          "name": "stdout",
          "text": [
            "Embedding shape: (2, 384)\n",
            "İlk 5 değer (s1): [0.14495261 0.36200204 0.01412645 0.16926311 0.20435631]\n"
          ]
        }
      ]
    },
    {
      "cell_type": "code",
      "source": [
        "from sentence_transformers import util\n",
        "\n",
        "cos_sim = util.cos_sim(embeddings[0], embeddings[1]).item()\n",
        "print(f\"Cosine Similarity: {cos_sim:.4f}\")\n"
      ],
      "metadata": {
        "colab": {
          "base_uri": "https://localhost:8080/"
        },
        "id": "h4ka1M18WKf-",
        "outputId": "e3e84d9c-02bc-46f6-a1bd-c9fdfcf04580"
      },
      "execution_count": null,
      "outputs": [
        {
          "output_type": "stream",
          "name": "stdout",
          "text": [
            "Cosine Similarity: 0.8931\n"
          ]
        }
      ]
    },
    {
      "cell_type": "code",
      "source": [
        "sentences = [\"Today weather is great.\", \"bugun hava çok güzel.\"]\n",
        "embeddings = model.encode(sentences, convert_to_numpy=True)\n",
        "\n",
        "print(\"Embedding shape:\", embeddings.shape)  # (2, 384)\n",
        "print(\"İlk 5 değer (s1):\", embeddings[0][:5])\n"
      ],
      "metadata": {
        "colab": {
          "base_uri": "https://localhost:8080/"
        },
        "id": "7U-yq2sLWNFE",
        "outputId": "4625c2a0-754f-45ff-8f14-4b1bcfbefe1d"
      },
      "execution_count": null,
      "outputs": [
        {
          "output_type": "stream",
          "name": "stdout",
          "text": [
            "Embedding shape: (2, 384)\n",
            "İlk 5 değer (s1): [-0.00834343  0.08960226  0.1401261   0.06527977 -0.00295951]\n"
          ]
        }
      ]
    },
    {
      "cell_type": "code",
      "source": [
        "from sentence_transformers import util\n",
        "\n",
        "cos_sim = util.cos_sim(embeddings[0], embeddings[1]).item()\n",
        "print(f\"Cosine Similarity: {cos_sim:.4f}\")\n"
      ],
      "metadata": {
        "id": "HImoNYveWPrh",
        "outputId": "d3416cf9-6841-4232-8d85-825e5764182c",
        "colab": {
          "base_uri": "https://localhost:8080/"
        }
      },
      "execution_count": null,
      "outputs": [
        {
          "output_type": "stream",
          "name": "stdout",
          "text": [
            "Cosine Similarity: 0.0425\n"
          ]
        }
      ]
    },
    {
      "cell_type": "code",
      "source": [],
      "metadata": {
        "id": "cE_1XEXNWQrz"
      },
      "execution_count": null,
      "outputs": []
    }
  ]
}